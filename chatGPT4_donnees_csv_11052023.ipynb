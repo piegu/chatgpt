{
  "nbformat": 4,
  "nbformat_minor": 0,
  "metadata": {
    "colab": {
      "provenance": []
    },
    "kernelspec": {
      "name": "python3",
      "display_name": "Python 3"
    },
    "language_info": {
      "name": "python"
    }
  },
  "cells": [
    {
      "cell_type": "markdown",
      "source": [
        "# ChatGPT 4 et les données en format csv (update: 11/05/2023)"
      ],
      "metadata": {
        "id": "nURNpXlHlKWy"
      }
    },
    {
      "cell_type": "markdown",
      "source": [
        "Ce notebook reprend la [conversation avec ChatGPT 4 du 10/05/2023](https://github.com/piegu/chatgpt/blob/main/chatGPT4_donnees_csv.ipynb) mais actualize dès le début les formats des colonnes heure afin de pouvoir prendre en compte dans les différents graphiques et instructions la dernière ligne du tableau de données."
      ],
      "metadata": {
        "id": "u4tRUskxkLa2"
      }
    },
    {
      "cell_type": "markdown",
      "source": [
        "## Bibliothèques nécessaires"
      ],
      "metadata": {
        "id": "dgeLKg8olH-q"
      }
    },
    {
      "cell_type": "code",
      "source": [
        "import pandas as pd\n",
        "import matplotlib.pyplot as plt\n",
        "import seaborn as sns"
      ],
      "metadata": {
        "id": "oMXVCtIfj9ZI"
      },
      "execution_count": 1,
      "outputs": []
    },
    {
      "cell_type": "markdown",
      "source": [
        "## Données dans un DataFrame pandas"
      ],
      "metadata": {
        "id": "0MPp5zRElDqi"
      }
    },
    {
      "cell_type": "markdown",
      "source": [
        "**Pierre**: Donne moi le code python du dataframe avec les données entre triple apostrophe en harmonisant les le format des données quand nécessaire.\n",
        "```\n",
        "id,client_id,location_id,service_id,jour,heure_début,heure_fin\n",
        "1,67,22,5,Lundi,08:00,17:00\n",
        "2,67,22,5,mardi,08:00,17:00\n",
        "3,23,12,,Mercredi,08:00,17:00\n",
        "4,19,34,9,Jeudi,08:00,17:00\n",
        "5,67,22,,vendredi,08:00,17:00\n",
        "6,0,0,2,Samedi,10:00,18:00\n",
        "7,0,0,2,dimanche,11:00,17:00\n",
        "8,,,22,lundi,08:00,12:00\n",
        "9,,,22,Lundi,14:00,16:00\n",
        "10,,,22,mercredi,10:00,15h\n",
        "13,67,22,,Lundi,9h00,03h00\n",
        "```"
      ],
      "metadata": {
        "id": "MpIkuMycclmD"
      }
    },
    {
      "cell_type": "markdown",
      "source": [
        "D'accord, pour harmoniser vos données, nous aurons besoin de faire plusieurs choses :\n",
        "\n",
        "- Convertir tous les jours de la semaine en minuscules pour avoir un format uniforme.\n",
        "- Convertir les heures en format 24h pour plus de cohérence. En supposant que \"03h00\" après \"9h00\" signifie \"03h00\" le lendemain, nous devrons en tenir compte lors de la conversion.\n",
        "\n",
        "Voici comment vous pouvez le faire en utilisant pandas en Python:"
      ],
      "metadata": {
        "id": "ltdX8FWbcprw"
      }
    },
    {
      "cell_type": "code",
      "source": [
        "import pandas as pd\n",
        "from io import StringIO\n",
        "\n",
        "# Vos données\n",
        "data = \"\"\"\n",
        "id,client_id,location_id,service_id,jour,heure_début,heure_fin\n",
        "1,67,22,5,Lundi,08:00,17:00\n",
        "2,67,22,5,mardi,08:00,17:00\n",
        "3,23,12,,Mercredi,08:00,17:00\n",
        "4,19,34,9,Jeudi,08:00,17:00\n",
        "5,67,22,,vendredi,08:00,17:00\n",
        "6,0,0,2,Samedi,10:00,18:00\n",
        "7,0,0,2,dimanche,11:00,17:00\n",
        "8,,,22,lundi,08:00,12:00\n",
        "9,,,22,Lundi,14:00,16:00\n",
        "10,,,22,mercredi,10:00,15h\n",
        "13,67,22,,Lundi,9h00,03h00\n",
        "\"\"\"\n",
        "\n",
        "# Création du DataFrame\n",
        "df = pd.read_csv(StringIO(data))\n",
        "\n",
        "# Conversion des jours en minuscules\n",
        "df['jour'] = df['jour'].str.lower()\n",
        "\n",
        "# Conversion des heures en format 24h\n",
        "df['heure_début'] = df['heure_début'].str.replace('h', ':').str.pad(width=5, side='right', fillchar='0')\n",
        "df['heure_fin'] = df['heure_fin'].str.replace('h', ':').str.pad(width=5, side='right', fillchar='0')\n",
        "\n",
        "# Gérer le cas où l'heure de fin est plus tôt que l'heure de début (supposons que cela signifie le jour suivant)\n",
        "df.loc[df['heure_fin'] < df['heure_début'], 'heure_fin'] = (pd.to_datetime(df['heure_fin']) + pd.DateOffset(days=1)).dt.time.astype(str)\n",
        "\n",
        "print(df)"
      ],
      "metadata": {
        "colab": {
          "base_uri": "https://localhost:8080/"
        },
        "id": "NWcX_A7cc9xg",
        "outputId": "a312499a-56d2-454b-babb-16ee32c19c61"
      },
      "execution_count": 36,
      "outputs": [
        {
          "output_type": "stream",
          "name": "stdout",
          "text": [
            "    id  client_id  location_id  service_id      jour heure_début heure_fin\n",
            "0    1       67.0         22.0         5.0     lundi       08:00     17:00\n",
            "1    2       67.0         22.0         5.0     mardi       08:00     17:00\n",
            "2    3       23.0         12.0         NaN  mercredi       08:00     17:00\n",
            "3    4       19.0         34.0         9.0     jeudi       08:00     17:00\n",
            "4    5       67.0         22.0         NaN  vendredi       08:00     17:00\n",
            "5    6        0.0          0.0         2.0    samedi       10:00     18:00\n",
            "6    7        0.0          0.0         2.0  dimanche       11:00     17:00\n",
            "7    8        NaN          NaN        22.0     lundi       08:00     12:00\n",
            "8    9        NaN          NaN        22.0     lundi       14:00     16:00\n",
            "9   10        NaN          NaN        22.0  mercredi       10:00     15:00\n",
            "10  13       67.0         22.0         NaN     lundi       9:000  03:00:00\n"
          ]
        }
      ]
    },
    {
      "cell_type": "markdown",
      "source": [
        "Notez que ce code suppose que lorsque l'heure de fin est plus tôt que l'heure de début, cela signifie que l'heure de fin est le jour suivant. Si ce n'est pas le cas dans vos données, vous devrez ajuster le code en conséquence."
      ],
      "metadata": {
        "id": "7Zn3HIpwc7NL"
      }
    },
    {
      "cell_type": "markdown",
      "source": [
        "**Pierre**: Converti le format des colonnes heure en integer."
      ],
      "metadata": {
        "id": "bISh65FkdJ3p"
      }
    },
    {
      "cell_type": "markdown",
      "source": [
        "D'accord, pour convertir les colonnes des heures en entiers, nous pourrions représenter chaque horaire en nombre total de minutes depuis minuit. Par exemple, 08:00 sera converti en 480 (8 heures * 60 minutes) et 17:00 en 1020 (17 heures * 60 minutes).\n",
        "\n",
        "Voici comment vous pouvez le faire :"
      ],
      "metadata": {
        "id": "Z42DHNkwdZSG"
      }
    },
    {
      "cell_type": "code",
      "source": [
        "# Conversion des colonnes des heures en entiers (nombre total de minutes depuis minuit)\n",
        "df['heure_début'] = df['heure_début'].str.split(':').apply(lambda x: int(x[0])*60 + int(x[1]))\n",
        "df['heure_fin'] = df['heure_fin'].str.split(':').apply(lambda x: int(x[0])*60 + int(x[1]))\n",
        "\n",
        "print(df)"
      ],
      "metadata": {
        "colab": {
          "base_uri": "https://localhost:8080/"
        },
        "id": "Hcnn5WsadUEK",
        "outputId": "5962ca71-79dd-475d-e82d-44b9127a54fd"
      },
      "execution_count": 39,
      "outputs": [
        {
          "output_type": "stream",
          "name": "stdout",
          "text": [
            "    id  client_id  location_id  service_id      jour  heure_début  heure_fin\n",
            "0    1       67.0         22.0         5.0     lundi          480       1020\n",
            "1    2       67.0         22.0         5.0     mardi          480       1020\n",
            "2    3       23.0         12.0         NaN  mercredi          480       1020\n",
            "3    4       19.0         34.0         9.0     jeudi          480       1020\n",
            "4    5       67.0         22.0         NaN  vendredi          480       1020\n",
            "5    6        0.0          0.0         2.0    samedi          600       1080\n",
            "6    7        0.0          0.0         2.0  dimanche          660       1020\n",
            "7    8        NaN          NaN        22.0     lundi          480        720\n",
            "8    9        NaN          NaN        22.0     lundi          840        960\n",
            "9   10        NaN          NaN        22.0  mercredi          600        900\n",
            "10  13       67.0         22.0         NaN     lundi          540        180\n"
          ]
        }
      ]
    },
    {
      "cell_type": "markdown",
      "source": [
        "Maintenant, les colonnes 'heure_début' et 'heure_fin' contiennent le nombre total de minutes depuis minuit, ce qui est une représentation entière des heures."
      ],
      "metadata": {
        "id": "lZZwbl5edc3h"
      }
    },
    {
      "cell_type": "markdown",
      "source": [
        "**Pierre**: Ajoute une colonne durée."
      ],
      "metadata": {
        "id": "qs3LOobgdgx2"
      }
    },
    {
      "cell_type": "markdown",
      "source": [
        "Pour ajouter une colonne 'durée', nous allons simplement soustraire 'heure_début' de 'heure_fin'. Cela nous donnera la durée de chaque service en minutes. Si l'heure de fin est avant l'heure de début (comme dans la dernière ligne de vos données), nous ajoutons 24 heures (ou 1440 minutes) à l'heure de fin pour tenir compte du fait que le service se poursuit le jour suivant.\n",
        "\n",
        "Voici comment vous pouvez le faire :"
      ],
      "metadata": {
        "id": "j9EV9HFgdrGR"
      }
    },
    {
      "cell_type": "code",
      "source": [
        "# Ajout de la colonne durée\n",
        "df['durée'] = df['heure_fin'] - df['heure_début']\n",
        "df.loc[df['durée'] < 0, 'durée'] += 24*60  # si l'heure de fin est avant l'heure de début, ajouter 24h\n",
        "\n",
        "print(df)"
      ],
      "metadata": {
        "colab": {
          "base_uri": "https://localhost:8080/"
        },
        "id": "Pya3GTPsdjcn",
        "outputId": "e2dd1893-a631-479d-822e-e6d96910ab82"
      },
      "execution_count": 40,
      "outputs": [
        {
          "output_type": "stream",
          "name": "stdout",
          "text": [
            "    id  client_id  location_id  service_id      jour  heure_début  heure_fin  \\\n",
            "0    1       67.0         22.0         5.0     lundi          480       1020   \n",
            "1    2       67.0         22.0         5.0     mardi          480       1020   \n",
            "2    3       23.0         12.0         NaN  mercredi          480       1020   \n",
            "3    4       19.0         34.0         9.0     jeudi          480       1020   \n",
            "4    5       67.0         22.0         NaN  vendredi          480       1020   \n",
            "5    6        0.0          0.0         2.0    samedi          600       1080   \n",
            "6    7        0.0          0.0         2.0  dimanche          660       1020   \n",
            "7    8        NaN          NaN        22.0     lundi          480        720   \n",
            "8    9        NaN          NaN        22.0     lundi          840        960   \n",
            "9   10        NaN          NaN        22.0  mercredi          600        900   \n",
            "10  13       67.0         22.0         NaN     lundi          540        180   \n",
            "\n",
            "    durée  \n",
            "0     540  \n",
            "1     540  \n",
            "2     540  \n",
            "3     540  \n",
            "4     540  \n",
            "5     480  \n",
            "6     360  \n",
            "7     240  \n",
            "8     120  \n",
            "9     300  \n",
            "10   1080  \n"
          ]
        }
      ]
    },
    {
      "cell_type": "markdown",
      "source": [
        "Maintenant, le dataframe contient une colonne supplémentaire 'durée' qui indique la durée de chaque service en minutes."
      ],
      "metadata": {
        "id": "M0gETxOJdt8n"
      }
    },
    {
      "cell_type": "markdown",
      "source": [
        "**Pierre**: Convertis les minutes en heures."
      ],
      "metadata": {
        "id": "KFgD2BOReEXQ"
      }
    },
    {
      "cell_type": "markdown",
      "source": [
        "Pour convertir les minutes en heures, vous pouvez diviser les valeurs de la colonne 'durée' par 60. Pour avoir un format lisible, vous pouvez utiliser la division entière et le modulo pour obtenir les heures et les minutes séparément.\n",
        "\n",
        "Voici comment vous pouvez le faire :"
      ],
      "metadata": {
        "id": "Bts7K57teSWM"
      }
    },
    {
      "cell_type": "code",
      "source": [
        "# Conversion des minutes en heures et minutes\n",
        "df['durée'] = df['durée'].apply(lambda x: f\"{x // 60}h {x % 60}m\")\n",
        "\n",
        "print(df)"
      ],
      "metadata": {
        "colab": {
          "base_uri": "https://localhost:8080/"
        },
        "id": "duEMWFN_eGjz",
        "outputId": "850e3739-f000-47c5-afbe-86ea11831000"
      },
      "execution_count": 50,
      "outputs": [
        {
          "output_type": "stream",
          "name": "stdout",
          "text": [
            "    id  client_id  location_id  service_id      jour heure_début  heure_fin  \\\n",
            "0    1       67.0         22.0         5.0     lundi         NaT       17.0   \n",
            "1    2       67.0         22.0         5.0     mardi         NaT       17.0   \n",
            "2    3       23.0         12.0         NaN  mercredi         NaT       17.0   \n",
            "3    4       19.0         34.0         9.0     jeudi         NaT       17.0   \n",
            "4    5       67.0         22.0         NaN  vendredi         NaT       17.0   \n",
            "5    6        0.0          0.0         2.0    samedi         NaT       18.0   \n",
            "6    7        0.0          0.0         2.0  dimanche         NaT       17.0   \n",
            "7    8        NaN          NaN        22.0     lundi         NaT       12.0   \n",
            "8    9        NaN          NaN        22.0     lundi         NaT       16.0   \n",
            "9   10        NaN          NaN        22.0  mercredi         NaT       15.0   \n",
            "10  13       67.0         22.0         NaN     lundi         NaT        3.0   \n",
            "\n",
            "         durée  heure  \n",
            "0    0.0h 9.0m    NaN  \n",
            "1    0.0h 9.0m    NaN  \n",
            "2    0.0h 9.0m    NaN  \n",
            "3    0.0h 9.0m    NaN  \n",
            "4    0.0h 9.0m    NaN  \n",
            "5    0.0h 8.0m    NaN  \n",
            "6    0.0h 6.0m    NaN  \n",
            "7    0.0h 4.0m    NaN  \n",
            "8    0.0h 2.0m    NaN  \n",
            "9    0.0h 5.0m    NaN  \n",
            "10  0.0h 18.0m    NaN  \n"
          ]
        }
      ]
    },
    {
      "cell_type": "markdown",
      "source": [
        "Maintenant, la colonne 'durée' représente les durées au format \"Xh Ym\", où X est le nombre d'heures et Y est le nombre de minutes."
      ],
      "metadata": {
        "id": "yfrRrtXZfQQh"
      }
    },
    {
      "cell_type": "markdown",
      "source": [
        "**Pierre**: Pas uniquement la colonne durée."
      ],
      "metadata": {
        "id": "2oEJ1Eh4fTpD"
      }
    },
    {
      "cell_type": "markdown",
      "source": [
        "D'accord, si vous voulez convertir toutes les colonnes représentant des durées en minutes en un format \"heures:minutes\", vous pouvez le faire comme suit :"
      ],
      "metadata": {
        "id": "SUUMgIlZfuTL"
      }
    },
    {
      "cell_type": "code",
      "source": [
        "# Conversion des minutes en heures et minutes pour toutes les colonnes pertinentes\n",
        "for col in ['heure_début', 'heure_fin', 'durée']:\n",
        "    df[col] = (df[col] // 60).astype(str) + ':' + (df[col] % 60).astype(str).str.zfill(2)\n",
        "\n",
        "print(df)"
      ],
      "metadata": {
        "colab": {
          "base_uri": "https://localhost:8080/",
          "height": 386
        },
        "id": "aA2BhJgveLUA",
        "outputId": "619324d1-55b1-4e3f-db73-1adc516493b2"
      },
      "execution_count": 51,
      "outputs": [
        {
          "output_type": "error",
          "ename": "TypeError",
          "evalue": "ignored",
          "traceback": [
            "\u001b[0;31m---------------------------------------------------------------------------\u001b[0m",
            "\u001b[0;31mTypeError\u001b[0m                                 Traceback (most recent call last)",
            "\u001b[0;32m<ipython-input-51-671f9e9c7887>\u001b[0m in \u001b[0;36m<cell line: 2>\u001b[0;34m()\u001b[0m\n\u001b[1;32m      1\u001b[0m \u001b[0;31m# Conversion des minutes en heures et minutes pour toutes les colonnes pertinentes\u001b[0m\u001b[0;34m\u001b[0m\u001b[0;34m\u001b[0m\u001b[0m\n\u001b[1;32m      2\u001b[0m \u001b[0;32mfor\u001b[0m \u001b[0mcol\u001b[0m \u001b[0;32min\u001b[0m \u001b[0;34m[\u001b[0m\u001b[0;34m'heure_début'\u001b[0m\u001b[0;34m,\u001b[0m \u001b[0;34m'heure_fin'\u001b[0m\u001b[0;34m,\u001b[0m \u001b[0;34m'durée'\u001b[0m\u001b[0;34m]\u001b[0m\u001b[0;34m:\u001b[0m\u001b[0;34m\u001b[0m\u001b[0;34m\u001b[0m\u001b[0m\n\u001b[0;32m----> 3\u001b[0;31m     \u001b[0mdf\u001b[0m\u001b[0;34m[\u001b[0m\u001b[0mcol\u001b[0m\u001b[0;34m]\u001b[0m \u001b[0;34m=\u001b[0m \u001b[0;34m(\u001b[0m\u001b[0mdf\u001b[0m\u001b[0;34m[\u001b[0m\u001b[0mcol\u001b[0m\u001b[0;34m]\u001b[0m \u001b[0;34m//\u001b[0m \u001b[0;36m60\u001b[0m\u001b[0;34m)\u001b[0m\u001b[0;34m.\u001b[0m\u001b[0mastype\u001b[0m\u001b[0;34m(\u001b[0m\u001b[0mstr\u001b[0m\u001b[0;34m)\u001b[0m \u001b[0;34m+\u001b[0m \u001b[0;34m':'\u001b[0m \u001b[0;34m+\u001b[0m \u001b[0;34m(\u001b[0m\u001b[0mdf\u001b[0m\u001b[0;34m[\u001b[0m\u001b[0mcol\u001b[0m\u001b[0;34m]\u001b[0m \u001b[0;34m%\u001b[0m \u001b[0;36m60\u001b[0m\u001b[0;34m)\u001b[0m\u001b[0;34m.\u001b[0m\u001b[0mastype\u001b[0m\u001b[0;34m(\u001b[0m\u001b[0mstr\u001b[0m\u001b[0;34m)\u001b[0m\u001b[0;34m.\u001b[0m\u001b[0mstr\u001b[0m\u001b[0;34m.\u001b[0m\u001b[0mzfill\u001b[0m\u001b[0;34m(\u001b[0m\u001b[0;36m2\u001b[0m\u001b[0;34m)\u001b[0m\u001b[0;34m\u001b[0m\u001b[0;34m\u001b[0m\u001b[0m\n\u001b[0m\u001b[1;32m      4\u001b[0m \u001b[0;34m\u001b[0m\u001b[0m\n\u001b[1;32m      5\u001b[0m \u001b[0mprint\u001b[0m\u001b[0;34m(\u001b[0m\u001b[0mdf\u001b[0m\u001b[0;34m)\u001b[0m\u001b[0;34m\u001b[0m\u001b[0;34m\u001b[0m\u001b[0m\n",
            "\u001b[0;32m/usr/local/lib/python3.10/dist-packages/pandas/core/ops/common.py\u001b[0m in \u001b[0;36mnew_method\u001b[0;34m(self, other)\u001b[0m\n\u001b[1;32m     70\u001b[0m         \u001b[0mother\u001b[0m \u001b[0;34m=\u001b[0m \u001b[0mitem_from_zerodim\u001b[0m\u001b[0;34m(\u001b[0m\u001b[0mother\u001b[0m\u001b[0;34m)\u001b[0m\u001b[0;34m\u001b[0m\u001b[0;34m\u001b[0m\u001b[0m\n\u001b[1;32m     71\u001b[0m \u001b[0;34m\u001b[0m\u001b[0m\n\u001b[0;32m---> 72\u001b[0;31m         \u001b[0;32mreturn\u001b[0m \u001b[0mmethod\u001b[0m\u001b[0;34m(\u001b[0m\u001b[0mself\u001b[0m\u001b[0;34m,\u001b[0m \u001b[0mother\u001b[0m\u001b[0;34m)\u001b[0m\u001b[0;34m\u001b[0m\u001b[0;34m\u001b[0m\u001b[0m\n\u001b[0m\u001b[1;32m     73\u001b[0m \u001b[0;34m\u001b[0m\u001b[0m\n\u001b[1;32m     74\u001b[0m     \u001b[0;32mreturn\u001b[0m \u001b[0mnew_method\u001b[0m\u001b[0;34m\u001b[0m\u001b[0;34m\u001b[0m\u001b[0m\n",
            "\u001b[0;32m/usr/local/lib/python3.10/dist-packages/pandas/core/arraylike.py\u001b[0m in \u001b[0;36m__floordiv__\u001b[0;34m(self, other)\u001b[0m\n\u001b[1;32m    132\u001b[0m     \u001b[0;34m@\u001b[0m\u001b[0munpack_zerodim_and_defer\u001b[0m\u001b[0;34m(\u001b[0m\u001b[0;34m\"__floordiv__\"\u001b[0m\u001b[0;34m)\u001b[0m\u001b[0;34m\u001b[0m\u001b[0;34m\u001b[0m\u001b[0m\n\u001b[1;32m    133\u001b[0m     \u001b[0;32mdef\u001b[0m \u001b[0m__floordiv__\u001b[0m\u001b[0;34m(\u001b[0m\u001b[0mself\u001b[0m\u001b[0;34m,\u001b[0m \u001b[0mother\u001b[0m\u001b[0;34m)\u001b[0m\u001b[0;34m:\u001b[0m\u001b[0;34m\u001b[0m\u001b[0;34m\u001b[0m\u001b[0m\n\u001b[0;32m--> 134\u001b[0;31m         \u001b[0;32mreturn\u001b[0m \u001b[0mself\u001b[0m\u001b[0;34m.\u001b[0m\u001b[0m_arith_method\u001b[0m\u001b[0;34m(\u001b[0m\u001b[0mother\u001b[0m\u001b[0;34m,\u001b[0m \u001b[0moperator\u001b[0m\u001b[0;34m.\u001b[0m\u001b[0mfloordiv\u001b[0m\u001b[0;34m)\u001b[0m\u001b[0;34m\u001b[0m\u001b[0;34m\u001b[0m\u001b[0m\n\u001b[0m\u001b[1;32m    135\u001b[0m \u001b[0;34m\u001b[0m\u001b[0m\n\u001b[1;32m    136\u001b[0m     \u001b[0;34m@\u001b[0m\u001b[0munpack_zerodim_and_defer\u001b[0m\u001b[0;34m(\u001b[0m\u001b[0;34m\"__rfloordiv\"\u001b[0m\u001b[0;34m)\u001b[0m\u001b[0;34m\u001b[0m\u001b[0;34m\u001b[0m\u001b[0m\n",
            "\u001b[0;32m/usr/local/lib/python3.10/dist-packages/pandas/core/series.py\u001b[0m in \u001b[0;36m_arith_method\u001b[0;34m(self, other, op)\u001b[0m\n\u001b[1;32m   6257\u001b[0m     \u001b[0;32mdef\u001b[0m \u001b[0m_arith_method\u001b[0m\u001b[0;34m(\u001b[0m\u001b[0mself\u001b[0m\u001b[0;34m,\u001b[0m \u001b[0mother\u001b[0m\u001b[0;34m,\u001b[0m \u001b[0mop\u001b[0m\u001b[0;34m)\u001b[0m\u001b[0;34m:\u001b[0m\u001b[0;34m\u001b[0m\u001b[0;34m\u001b[0m\u001b[0m\n\u001b[1;32m   6258\u001b[0m         \u001b[0mself\u001b[0m\u001b[0;34m,\u001b[0m \u001b[0mother\u001b[0m \u001b[0;34m=\u001b[0m \u001b[0mops\u001b[0m\u001b[0;34m.\u001b[0m\u001b[0malign_method_SERIES\u001b[0m\u001b[0;34m(\u001b[0m\u001b[0mself\u001b[0m\u001b[0;34m,\u001b[0m \u001b[0mother\u001b[0m\u001b[0;34m)\u001b[0m\u001b[0;34m\u001b[0m\u001b[0;34m\u001b[0m\u001b[0m\n\u001b[0;32m-> 6259\u001b[0;31m         \u001b[0;32mreturn\u001b[0m \u001b[0mbase\u001b[0m\u001b[0;34m.\u001b[0m\u001b[0mIndexOpsMixin\u001b[0m\u001b[0;34m.\u001b[0m\u001b[0m_arith_method\u001b[0m\u001b[0;34m(\u001b[0m\u001b[0mself\u001b[0m\u001b[0;34m,\u001b[0m \u001b[0mother\u001b[0m\u001b[0;34m,\u001b[0m \u001b[0mop\u001b[0m\u001b[0;34m)\u001b[0m\u001b[0;34m\u001b[0m\u001b[0;34m\u001b[0m\u001b[0m\n\u001b[0m\u001b[1;32m   6260\u001b[0m \u001b[0;34m\u001b[0m\u001b[0m\n\u001b[1;32m   6261\u001b[0m \u001b[0;34m\u001b[0m\u001b[0m\n",
            "\u001b[0;32m/usr/local/lib/python3.10/dist-packages/pandas/core/base.py\u001b[0m in \u001b[0;36m_arith_method\u001b[0;34m(self, other, op)\u001b[0m\n\u001b[1;32m   1323\u001b[0m \u001b[0;34m\u001b[0m\u001b[0m\n\u001b[1;32m   1324\u001b[0m         \u001b[0;32mwith\u001b[0m \u001b[0mnp\u001b[0m\u001b[0;34m.\u001b[0m\u001b[0merrstate\u001b[0m\u001b[0;34m(\u001b[0m\u001b[0mall\u001b[0m\u001b[0;34m=\u001b[0m\u001b[0;34m\"ignore\"\u001b[0m\u001b[0;34m)\u001b[0m\u001b[0;34m:\u001b[0m\u001b[0;34m\u001b[0m\u001b[0;34m\u001b[0m\u001b[0m\n\u001b[0;32m-> 1325\u001b[0;31m             \u001b[0mresult\u001b[0m \u001b[0;34m=\u001b[0m \u001b[0mops\u001b[0m\u001b[0;34m.\u001b[0m\u001b[0marithmetic_op\u001b[0m\u001b[0;34m(\u001b[0m\u001b[0mlvalues\u001b[0m\u001b[0;34m,\u001b[0m \u001b[0mrvalues\u001b[0m\u001b[0;34m,\u001b[0m \u001b[0mop\u001b[0m\u001b[0;34m)\u001b[0m\u001b[0;34m\u001b[0m\u001b[0;34m\u001b[0m\u001b[0m\n\u001b[0m\u001b[1;32m   1326\u001b[0m \u001b[0;34m\u001b[0m\u001b[0m\n\u001b[1;32m   1327\u001b[0m         \u001b[0;32mreturn\u001b[0m \u001b[0mself\u001b[0m\u001b[0;34m.\u001b[0m\u001b[0m_construct_result\u001b[0m\u001b[0;34m(\u001b[0m\u001b[0mresult\u001b[0m\u001b[0;34m,\u001b[0m \u001b[0mname\u001b[0m\u001b[0;34m=\u001b[0m\u001b[0mres_name\u001b[0m\u001b[0;34m)\u001b[0m\u001b[0;34m\u001b[0m\u001b[0;34m\u001b[0m\u001b[0m\n",
            "\u001b[0;32m/usr/local/lib/python3.10/dist-packages/pandas/core/ops/array_ops.py\u001b[0m in \u001b[0;36marithmetic_op\u001b[0;34m(left, right, op)\u001b[0m\n\u001b[1;32m    216\u001b[0m         \u001b[0;31m# Timedelta/Timestamp and other custom scalars are included in the check\u001b[0m\u001b[0;34m\u001b[0m\u001b[0;34m\u001b[0m\u001b[0m\n\u001b[1;32m    217\u001b[0m         \u001b[0;31m# because numexpr will fail on it, see GH#31457\u001b[0m\u001b[0;34m\u001b[0m\u001b[0;34m\u001b[0m\u001b[0m\n\u001b[0;32m--> 218\u001b[0;31m         \u001b[0mres_values\u001b[0m \u001b[0;34m=\u001b[0m \u001b[0mop\u001b[0m\u001b[0;34m(\u001b[0m\u001b[0mleft\u001b[0m\u001b[0;34m,\u001b[0m \u001b[0mright\u001b[0m\u001b[0;34m)\u001b[0m\u001b[0;34m\u001b[0m\u001b[0;34m\u001b[0m\u001b[0m\n\u001b[0m\u001b[1;32m    219\u001b[0m     \u001b[0;32melse\u001b[0m\u001b[0;34m:\u001b[0m\u001b[0;34m\u001b[0m\u001b[0;34m\u001b[0m\u001b[0m\n\u001b[1;32m    220\u001b[0m         \u001b[0;31m# TODO we should handle EAs consistently and move this check before the if/else\u001b[0m\u001b[0;34m\u001b[0m\u001b[0;34m\u001b[0m\u001b[0m\n",
            "\u001b[0;32m/usr/local/lib/python3.10/dist-packages/pandas/core/ops/invalid.py\u001b[0m in \u001b[0;36minvalid_op\u001b[0;34m(self, other)\u001b[0m\n\u001b[1;32m     53\u001b[0m     \u001b[0;32mdef\u001b[0m \u001b[0minvalid_op\u001b[0m\u001b[0;34m(\u001b[0m\u001b[0mself\u001b[0m\u001b[0;34m,\u001b[0m \u001b[0mother\u001b[0m\u001b[0;34m=\u001b[0m\u001b[0;32mNone\u001b[0m\u001b[0;34m)\u001b[0m\u001b[0;34m:\u001b[0m\u001b[0;34m\u001b[0m\u001b[0;34m\u001b[0m\u001b[0m\n\u001b[1;32m     54\u001b[0m         \u001b[0mtyp\u001b[0m \u001b[0;34m=\u001b[0m \u001b[0mtype\u001b[0m\u001b[0;34m(\u001b[0m\u001b[0mself\u001b[0m\u001b[0;34m)\u001b[0m\u001b[0;34m.\u001b[0m\u001b[0m__name__\u001b[0m\u001b[0;34m\u001b[0m\u001b[0;34m\u001b[0m\u001b[0m\n\u001b[0;32m---> 55\u001b[0;31m         \u001b[0;32mraise\u001b[0m \u001b[0mTypeError\u001b[0m\u001b[0;34m(\u001b[0m\u001b[0;34mf\"cannot perform {name} with this index type: {typ}\"\u001b[0m\u001b[0;34m)\u001b[0m\u001b[0;34m\u001b[0m\u001b[0;34m\u001b[0m\u001b[0m\n\u001b[0m\u001b[1;32m     56\u001b[0m \u001b[0;34m\u001b[0m\u001b[0m\n\u001b[1;32m     57\u001b[0m     \u001b[0minvalid_op\u001b[0m\u001b[0;34m.\u001b[0m\u001b[0m__name__\u001b[0m \u001b[0;34m=\u001b[0m \u001b[0mname\u001b[0m\u001b[0;34m\u001b[0m\u001b[0;34m\u001b[0m\u001b[0m\n",
            "\u001b[0;31mTypeError\u001b[0m: cannot perform __floordiv__ with this index type: DatetimeArray"
          ]
        }
      ]
    },
    {
      "cell_type": "markdown",
      "source": [
        "Avec ce code, toutes les colonnes spécifiées qui contiennent des durées en minutes seront converties en un format \"heures:minutes\". Notez que nous utilisons str.zfill(2) pour nous assurer que les minutes sont toujours représentées par deux chiffres. Par exemple, \"8:5\" deviendra \"8:05\"."
      ],
      "metadata": {
        "id": "cQFbXoMJfp2g"
      }
    },
    {
      "cell_type": "markdown",
      "source": [
        "**Pierre**: Non. Je veux toutes les colonnes en heures de type integer."
      ],
      "metadata": {
        "id": "wETaGFTugJ6c"
      }
    },
    {
      "cell_type": "markdown",
      "source": [
        "D'accord, je comprends maintenant. Vous voulez convertir toutes les colonnes en heures (de type integer), en ignorant les minutes. Vous pouvez le faire en divisant simplement par 60 et en convertissant le résultat en integer.\n",
        "\n",
        "Voici comment vous pouvez le faire :"
      ],
      "metadata": {
        "id": "TTL_QYy3gG39"
      }
    },
    {
      "cell_type": "code",
      "source": [
        "# Conversion des minutes en heures (entier) pour toutes les colonnes pertinentes\n",
        "for col in ['heure_début', 'heure_fin', 'durée']:\n",
        "    df[col] = (df[col] // 60).astype(int)\n",
        "\n",
        "print(df)"
      ],
      "metadata": {
        "colab": {
          "base_uri": "https://localhost:8080/",
          "height": 386
        },
        "id": "lkUqjngHfxPZ",
        "outputId": "084820d4-a7bf-4172-9319-2e46ce74bedf"
      },
      "execution_count": 52,
      "outputs": [
        {
          "output_type": "error",
          "ename": "TypeError",
          "evalue": "ignored",
          "traceback": [
            "\u001b[0;31m---------------------------------------------------------------------------\u001b[0m",
            "\u001b[0;31mTypeError\u001b[0m                                 Traceback (most recent call last)",
            "\u001b[0;32m<ipython-input-52-f4f7240d9823>\u001b[0m in \u001b[0;36m<cell line: 2>\u001b[0;34m()\u001b[0m\n\u001b[1;32m      1\u001b[0m \u001b[0;31m# Conversion des minutes en heures (entier) pour toutes les colonnes pertinentes\u001b[0m\u001b[0;34m\u001b[0m\u001b[0;34m\u001b[0m\u001b[0m\n\u001b[1;32m      2\u001b[0m \u001b[0;32mfor\u001b[0m \u001b[0mcol\u001b[0m \u001b[0;32min\u001b[0m \u001b[0;34m[\u001b[0m\u001b[0;34m'heure_début'\u001b[0m\u001b[0;34m,\u001b[0m \u001b[0;34m'heure_fin'\u001b[0m\u001b[0;34m,\u001b[0m \u001b[0;34m'durée'\u001b[0m\u001b[0;34m]\u001b[0m\u001b[0;34m:\u001b[0m\u001b[0;34m\u001b[0m\u001b[0;34m\u001b[0m\u001b[0m\n\u001b[0;32m----> 3\u001b[0;31m     \u001b[0mdf\u001b[0m\u001b[0;34m[\u001b[0m\u001b[0mcol\u001b[0m\u001b[0;34m]\u001b[0m \u001b[0;34m=\u001b[0m \u001b[0;34m(\u001b[0m\u001b[0mdf\u001b[0m\u001b[0;34m[\u001b[0m\u001b[0mcol\u001b[0m\u001b[0;34m]\u001b[0m \u001b[0;34m//\u001b[0m \u001b[0;36m60\u001b[0m\u001b[0;34m)\u001b[0m\u001b[0;34m.\u001b[0m\u001b[0mastype\u001b[0m\u001b[0;34m(\u001b[0m\u001b[0mint\u001b[0m\u001b[0;34m)\u001b[0m\u001b[0;34m\u001b[0m\u001b[0;34m\u001b[0m\u001b[0m\n\u001b[0m\u001b[1;32m      4\u001b[0m \u001b[0;34m\u001b[0m\u001b[0m\n\u001b[1;32m      5\u001b[0m \u001b[0mprint\u001b[0m\u001b[0;34m(\u001b[0m\u001b[0mdf\u001b[0m\u001b[0;34m)\u001b[0m\u001b[0;34m\u001b[0m\u001b[0;34m\u001b[0m\u001b[0m\n",
            "\u001b[0;32m/usr/local/lib/python3.10/dist-packages/pandas/core/ops/common.py\u001b[0m in \u001b[0;36mnew_method\u001b[0;34m(self, other)\u001b[0m\n\u001b[1;32m     70\u001b[0m         \u001b[0mother\u001b[0m \u001b[0;34m=\u001b[0m \u001b[0mitem_from_zerodim\u001b[0m\u001b[0;34m(\u001b[0m\u001b[0mother\u001b[0m\u001b[0;34m)\u001b[0m\u001b[0;34m\u001b[0m\u001b[0;34m\u001b[0m\u001b[0m\n\u001b[1;32m     71\u001b[0m \u001b[0;34m\u001b[0m\u001b[0m\n\u001b[0;32m---> 72\u001b[0;31m         \u001b[0;32mreturn\u001b[0m \u001b[0mmethod\u001b[0m\u001b[0;34m(\u001b[0m\u001b[0mself\u001b[0m\u001b[0;34m,\u001b[0m \u001b[0mother\u001b[0m\u001b[0;34m)\u001b[0m\u001b[0;34m\u001b[0m\u001b[0;34m\u001b[0m\u001b[0m\n\u001b[0m\u001b[1;32m     73\u001b[0m \u001b[0;34m\u001b[0m\u001b[0m\n\u001b[1;32m     74\u001b[0m     \u001b[0;32mreturn\u001b[0m \u001b[0mnew_method\u001b[0m\u001b[0;34m\u001b[0m\u001b[0;34m\u001b[0m\u001b[0m\n",
            "\u001b[0;32m/usr/local/lib/python3.10/dist-packages/pandas/core/arraylike.py\u001b[0m in \u001b[0;36m__floordiv__\u001b[0;34m(self, other)\u001b[0m\n\u001b[1;32m    132\u001b[0m     \u001b[0;34m@\u001b[0m\u001b[0munpack_zerodim_and_defer\u001b[0m\u001b[0;34m(\u001b[0m\u001b[0;34m\"__floordiv__\"\u001b[0m\u001b[0;34m)\u001b[0m\u001b[0;34m\u001b[0m\u001b[0;34m\u001b[0m\u001b[0m\n\u001b[1;32m    133\u001b[0m     \u001b[0;32mdef\u001b[0m \u001b[0m__floordiv__\u001b[0m\u001b[0;34m(\u001b[0m\u001b[0mself\u001b[0m\u001b[0;34m,\u001b[0m \u001b[0mother\u001b[0m\u001b[0;34m)\u001b[0m\u001b[0;34m:\u001b[0m\u001b[0;34m\u001b[0m\u001b[0;34m\u001b[0m\u001b[0m\n\u001b[0;32m--> 134\u001b[0;31m         \u001b[0;32mreturn\u001b[0m \u001b[0mself\u001b[0m\u001b[0;34m.\u001b[0m\u001b[0m_arith_method\u001b[0m\u001b[0;34m(\u001b[0m\u001b[0mother\u001b[0m\u001b[0;34m,\u001b[0m \u001b[0moperator\u001b[0m\u001b[0;34m.\u001b[0m\u001b[0mfloordiv\u001b[0m\u001b[0;34m)\u001b[0m\u001b[0;34m\u001b[0m\u001b[0;34m\u001b[0m\u001b[0m\n\u001b[0m\u001b[1;32m    135\u001b[0m \u001b[0;34m\u001b[0m\u001b[0m\n\u001b[1;32m    136\u001b[0m     \u001b[0;34m@\u001b[0m\u001b[0munpack_zerodim_and_defer\u001b[0m\u001b[0;34m(\u001b[0m\u001b[0;34m\"__rfloordiv\"\u001b[0m\u001b[0;34m)\u001b[0m\u001b[0;34m\u001b[0m\u001b[0;34m\u001b[0m\u001b[0m\n",
            "\u001b[0;32m/usr/local/lib/python3.10/dist-packages/pandas/core/series.py\u001b[0m in \u001b[0;36m_arith_method\u001b[0;34m(self, other, op)\u001b[0m\n\u001b[1;32m   6257\u001b[0m     \u001b[0;32mdef\u001b[0m \u001b[0m_arith_method\u001b[0m\u001b[0;34m(\u001b[0m\u001b[0mself\u001b[0m\u001b[0;34m,\u001b[0m \u001b[0mother\u001b[0m\u001b[0;34m,\u001b[0m \u001b[0mop\u001b[0m\u001b[0;34m)\u001b[0m\u001b[0;34m:\u001b[0m\u001b[0;34m\u001b[0m\u001b[0;34m\u001b[0m\u001b[0m\n\u001b[1;32m   6258\u001b[0m         \u001b[0mself\u001b[0m\u001b[0;34m,\u001b[0m \u001b[0mother\u001b[0m \u001b[0;34m=\u001b[0m \u001b[0mops\u001b[0m\u001b[0;34m.\u001b[0m\u001b[0malign_method_SERIES\u001b[0m\u001b[0;34m(\u001b[0m\u001b[0mself\u001b[0m\u001b[0;34m,\u001b[0m \u001b[0mother\u001b[0m\u001b[0;34m)\u001b[0m\u001b[0;34m\u001b[0m\u001b[0;34m\u001b[0m\u001b[0m\n\u001b[0;32m-> 6259\u001b[0;31m         \u001b[0;32mreturn\u001b[0m \u001b[0mbase\u001b[0m\u001b[0;34m.\u001b[0m\u001b[0mIndexOpsMixin\u001b[0m\u001b[0;34m.\u001b[0m\u001b[0m_arith_method\u001b[0m\u001b[0;34m(\u001b[0m\u001b[0mself\u001b[0m\u001b[0;34m,\u001b[0m \u001b[0mother\u001b[0m\u001b[0;34m,\u001b[0m \u001b[0mop\u001b[0m\u001b[0;34m)\u001b[0m\u001b[0;34m\u001b[0m\u001b[0;34m\u001b[0m\u001b[0m\n\u001b[0m\u001b[1;32m   6260\u001b[0m \u001b[0;34m\u001b[0m\u001b[0m\n\u001b[1;32m   6261\u001b[0m \u001b[0;34m\u001b[0m\u001b[0m\n",
            "\u001b[0;32m/usr/local/lib/python3.10/dist-packages/pandas/core/base.py\u001b[0m in \u001b[0;36m_arith_method\u001b[0;34m(self, other, op)\u001b[0m\n\u001b[1;32m   1323\u001b[0m \u001b[0;34m\u001b[0m\u001b[0m\n\u001b[1;32m   1324\u001b[0m         \u001b[0;32mwith\u001b[0m \u001b[0mnp\u001b[0m\u001b[0;34m.\u001b[0m\u001b[0merrstate\u001b[0m\u001b[0;34m(\u001b[0m\u001b[0mall\u001b[0m\u001b[0;34m=\u001b[0m\u001b[0;34m\"ignore\"\u001b[0m\u001b[0;34m)\u001b[0m\u001b[0;34m:\u001b[0m\u001b[0;34m\u001b[0m\u001b[0;34m\u001b[0m\u001b[0m\n\u001b[0;32m-> 1325\u001b[0;31m             \u001b[0mresult\u001b[0m \u001b[0;34m=\u001b[0m \u001b[0mops\u001b[0m\u001b[0;34m.\u001b[0m\u001b[0marithmetic_op\u001b[0m\u001b[0;34m(\u001b[0m\u001b[0mlvalues\u001b[0m\u001b[0;34m,\u001b[0m \u001b[0mrvalues\u001b[0m\u001b[0;34m,\u001b[0m \u001b[0mop\u001b[0m\u001b[0;34m)\u001b[0m\u001b[0;34m\u001b[0m\u001b[0;34m\u001b[0m\u001b[0m\n\u001b[0m\u001b[1;32m   1326\u001b[0m \u001b[0;34m\u001b[0m\u001b[0m\n\u001b[1;32m   1327\u001b[0m         \u001b[0;32mreturn\u001b[0m \u001b[0mself\u001b[0m\u001b[0;34m.\u001b[0m\u001b[0m_construct_result\u001b[0m\u001b[0;34m(\u001b[0m\u001b[0mresult\u001b[0m\u001b[0;34m,\u001b[0m \u001b[0mname\u001b[0m\u001b[0;34m=\u001b[0m\u001b[0mres_name\u001b[0m\u001b[0;34m)\u001b[0m\u001b[0;34m\u001b[0m\u001b[0;34m\u001b[0m\u001b[0m\n",
            "\u001b[0;32m/usr/local/lib/python3.10/dist-packages/pandas/core/ops/array_ops.py\u001b[0m in \u001b[0;36marithmetic_op\u001b[0;34m(left, right, op)\u001b[0m\n\u001b[1;32m    216\u001b[0m         \u001b[0;31m# Timedelta/Timestamp and other custom scalars are included in the check\u001b[0m\u001b[0;34m\u001b[0m\u001b[0;34m\u001b[0m\u001b[0m\n\u001b[1;32m    217\u001b[0m         \u001b[0;31m# because numexpr will fail on it, see GH#31457\u001b[0m\u001b[0;34m\u001b[0m\u001b[0;34m\u001b[0m\u001b[0m\n\u001b[0;32m--> 218\u001b[0;31m         \u001b[0mres_values\u001b[0m \u001b[0;34m=\u001b[0m \u001b[0mop\u001b[0m\u001b[0;34m(\u001b[0m\u001b[0mleft\u001b[0m\u001b[0;34m,\u001b[0m \u001b[0mright\u001b[0m\u001b[0;34m)\u001b[0m\u001b[0;34m\u001b[0m\u001b[0;34m\u001b[0m\u001b[0m\n\u001b[0m\u001b[1;32m    219\u001b[0m     \u001b[0;32melse\u001b[0m\u001b[0;34m:\u001b[0m\u001b[0;34m\u001b[0m\u001b[0;34m\u001b[0m\u001b[0m\n\u001b[1;32m    220\u001b[0m         \u001b[0;31m# TODO we should handle EAs consistently and move this check before the if/else\u001b[0m\u001b[0;34m\u001b[0m\u001b[0;34m\u001b[0m\u001b[0m\n",
            "\u001b[0;32m/usr/local/lib/python3.10/dist-packages/pandas/core/ops/invalid.py\u001b[0m in \u001b[0;36minvalid_op\u001b[0;34m(self, other)\u001b[0m\n\u001b[1;32m     53\u001b[0m     \u001b[0;32mdef\u001b[0m \u001b[0minvalid_op\u001b[0m\u001b[0;34m(\u001b[0m\u001b[0mself\u001b[0m\u001b[0;34m,\u001b[0m \u001b[0mother\u001b[0m\u001b[0;34m=\u001b[0m\u001b[0;32mNone\u001b[0m\u001b[0;34m)\u001b[0m\u001b[0;34m:\u001b[0m\u001b[0;34m\u001b[0m\u001b[0;34m\u001b[0m\u001b[0m\n\u001b[1;32m     54\u001b[0m         \u001b[0mtyp\u001b[0m \u001b[0;34m=\u001b[0m \u001b[0mtype\u001b[0m\u001b[0;34m(\u001b[0m\u001b[0mself\u001b[0m\u001b[0;34m)\u001b[0m\u001b[0;34m.\u001b[0m\u001b[0m__name__\u001b[0m\u001b[0;34m\u001b[0m\u001b[0;34m\u001b[0m\u001b[0m\n\u001b[0;32m---> 55\u001b[0;31m         \u001b[0;32mraise\u001b[0m \u001b[0mTypeError\u001b[0m\u001b[0;34m(\u001b[0m\u001b[0;34mf\"cannot perform {name} with this index type: {typ}\"\u001b[0m\u001b[0;34m)\u001b[0m\u001b[0;34m\u001b[0m\u001b[0;34m\u001b[0m\u001b[0m\n\u001b[0m\u001b[1;32m     56\u001b[0m \u001b[0;34m\u001b[0m\u001b[0m\n\u001b[1;32m     57\u001b[0m     \u001b[0minvalid_op\u001b[0m\u001b[0;34m.\u001b[0m\u001b[0m__name__\u001b[0m \u001b[0;34m=\u001b[0m \u001b[0mname\u001b[0m\u001b[0;34m\u001b[0m\u001b[0;34m\u001b[0m\u001b[0m\n",
            "\u001b[0;31mTypeError\u001b[0m: cannot perform __floordiv__ with this index type: DatetimeArray"
          ]
        }
      ]
    },
    {
      "cell_type": "markdown",
      "source": [
        "Maintenant, toutes les colonnes spécifiées représentent des durées en heures entières."
      ],
      "metadata": {
        "id": "IijrWXXmgPPh"
      }
    },
    {
      "cell_type": "markdown",
      "source": [
        "**Pierre**: Donne moi un code global en partant des données initiales jusqu'à ma dernière demande."
      ],
      "metadata": {
        "id": "367azayrgBSU"
      }
    },
    {
      "cell_type": "markdown",
      "source": [
        "D'accord, voici le code complet qui prend en compte toutes les étapes que nous avons décrites précédemment :"
      ],
      "metadata": {
        "id": "FXtN0-t5gTky"
      }
    },
    {
      "cell_type": "code",
      "source": [
        "import pandas as pd\n",
        "from io import StringIO\n",
        "\n",
        "# Vos données\n",
        "data = \"\"\"\n",
        "id,client_id,location_id,service_id,jour,heure_début,heure_fin\n",
        "1,67,22,5,Lundi,08:00,17:00\n",
        "2,67,22,5,mardi,08:00,17:00\n",
        "3,23,12,,Mercredi,08:00,17:00\n",
        "4,19,34,9,Jeudi,08:00,17:00\n",
        "5,67,22,,vendredi,08:00,17:00\n",
        "6,0,0,2,Samedi,10:00,18:00\n",
        "7,0,0,2,dimanche,11:00,17:00\n",
        "8,,,22,lundi,08:00,12:00\n",
        "9,,,22,Lundi,14:00,16:00\n",
        "10,,,22,mercredi,10:00,15h\n",
        "13,67,22,,Lundi,9h00,03h00\n",
        "\"\"\"\n",
        "\n",
        "# Création du DataFrame\n",
        "df = pd.read_csv(StringIO(data))\n",
        "\n",
        "# Conversion des jours en minuscules\n",
        "df['jour'] = df['jour'].str.lower()\n",
        "\n",
        "# Conversion des heures en format 24h\n",
        "df['heure_début'] = df['heure_début'].str.replace('h', ':').str.pad(width=5, side='right', fillchar='0')\n",
        "df['heure_fin'] = df['heure_fin'].str.replace('h', ':').str.pad(width=5, side='right', fillchar='0')\n",
        "\n",
        "# Gérer le cas où l'heure de fin est plus tôt que l'heure de début (supposons que cela signifie le jour suivant)\n",
        "df.loc[df['heure_fin'] < df['heure_début'], 'heure_fin'] = (pd.to_datetime(df['heure_fin']) + pd.DateOffset(days=1)).dt.time.astype(str)\n",
        "\n",
        "# Conversion des colonnes des heures en entiers (nombre total de minutes depuis minuit)\n",
        "df['heure_début'] = df['heure_début'].str.split(':').apply(lambda x: int(x[0])*60 + int(x[1]))\n",
        "df['heure_fin'] = df['heure_fin'].str.split(':').apply(lambda x: int(x[0])*60 + int(x[1]))\n",
        "\n",
        "# Ajout de la colonne durée\n",
        "df['durée'] = df['heure_fin'] - df['heure_début']\n",
        "df.loc[df['durée'] < 0, 'durée'] += 24*60  # si l'heure de fin est avant l'heure de début, ajouter 24h\n",
        "\n",
        "# Conversion des minutes en heures (entier) pour toutes les colonnes pertinentes\n",
        "for col in ['heure_début', 'heure_fin', 'durée']:\n",
        "    df[col] = (df[col] // 60).astype(int)\n",
        "\n",
        "print(df)"
      ],
      "metadata": {
        "colab": {
          "base_uri": "https://localhost:8080/"
        },
        "id": "v3be_S5-gVG5",
        "outputId": "49edc440-31af-4c3e-f6b6-42e39514fa5c"
      },
      "execution_count": 62,
      "outputs": [
        {
          "output_type": "stream",
          "name": "stdout",
          "text": [
            "    id  client_id  location_id  service_id      jour  heure_début  heure_fin  \\\n",
            "0    1       67.0         22.0         5.0     lundi            8         17   \n",
            "1    2       67.0         22.0         5.0     mardi            8         17   \n",
            "2    3       23.0         12.0         NaN  mercredi            8         17   \n",
            "3    4       19.0         34.0         9.0     jeudi            8         17   \n",
            "4    5       67.0         22.0         NaN  vendredi            8         17   \n",
            "5    6        0.0          0.0         2.0    samedi           10         18   \n",
            "6    7        0.0          0.0         2.0  dimanche           11         17   \n",
            "7    8        NaN          NaN        22.0     lundi            8         12   \n",
            "8    9        NaN          NaN        22.0     lundi           14         16   \n",
            "9   10        NaN          NaN        22.0  mercredi           10         15   \n",
            "10  13       67.0         22.0         NaN     lundi            9          3   \n",
            "\n",
            "    durée  \n",
            "0       9  \n",
            "1       9  \n",
            "2       9  \n",
            "3       9  \n",
            "4       9  \n",
            "5       8  \n",
            "6       6  \n",
            "7       4  \n",
            "8       2  \n",
            "9       5  \n",
            "10     18  \n"
          ]
        }
      ]
    },
    {
      "cell_type": "code",
      "source": [
        "df"
      ],
      "metadata": {
        "colab": {
          "base_uri": "https://localhost:8080/",
          "height": 394
        },
        "id": "6509_jT5gj6g",
        "outputId": "d00d102d-eaf5-4e02-db9d-2e3b70e9d4ce"
      },
      "execution_count": 63,
      "outputs": [
        {
          "output_type": "execute_result",
          "data": {
            "text/plain": [
              "    id  client_id  location_id  service_id      jour  heure_début  heure_fin  \\\n",
              "0    1       67.0         22.0         5.0     lundi            8         17   \n",
              "1    2       67.0         22.0         5.0     mardi            8         17   \n",
              "2    3       23.0         12.0         NaN  mercredi            8         17   \n",
              "3    4       19.0         34.0         9.0     jeudi            8         17   \n",
              "4    5       67.0         22.0         NaN  vendredi            8         17   \n",
              "5    6        0.0          0.0         2.0    samedi           10         18   \n",
              "6    7        0.0          0.0         2.0  dimanche           11         17   \n",
              "7    8        NaN          NaN        22.0     lundi            8         12   \n",
              "8    9        NaN          NaN        22.0     lundi           14         16   \n",
              "9   10        NaN          NaN        22.0  mercredi           10         15   \n",
              "10  13       67.0         22.0         NaN     lundi            9          3   \n",
              "\n",
              "    durée  \n",
              "0       9  \n",
              "1       9  \n",
              "2       9  \n",
              "3       9  \n",
              "4       9  \n",
              "5       8  \n",
              "6       6  \n",
              "7       4  \n",
              "8       2  \n",
              "9       5  \n",
              "10     18  "
            ],
            "text/html": [
              "\n",
              "  <div id=\"df-36744c01-2f09-41c7-b278-64e4543c3d53\">\n",
              "    <div class=\"colab-df-container\">\n",
              "      <div>\n",
              "<style scoped>\n",
              "    .dataframe tbody tr th:only-of-type {\n",
              "        vertical-align: middle;\n",
              "    }\n",
              "\n",
              "    .dataframe tbody tr th {\n",
              "        vertical-align: top;\n",
              "    }\n",
              "\n",
              "    .dataframe thead th {\n",
              "        text-align: right;\n",
              "    }\n",
              "</style>\n",
              "<table border=\"1\" class=\"dataframe\">\n",
              "  <thead>\n",
              "    <tr style=\"text-align: right;\">\n",
              "      <th></th>\n",
              "      <th>id</th>\n",
              "      <th>client_id</th>\n",
              "      <th>location_id</th>\n",
              "      <th>service_id</th>\n",
              "      <th>jour</th>\n",
              "      <th>heure_début</th>\n",
              "      <th>heure_fin</th>\n",
              "      <th>durée</th>\n",
              "    </tr>\n",
              "  </thead>\n",
              "  <tbody>\n",
              "    <tr>\n",
              "      <th>0</th>\n",
              "      <td>1</td>\n",
              "      <td>67.0</td>\n",
              "      <td>22.0</td>\n",
              "      <td>5.0</td>\n",
              "      <td>lundi</td>\n",
              "      <td>8</td>\n",
              "      <td>17</td>\n",
              "      <td>9</td>\n",
              "    </tr>\n",
              "    <tr>\n",
              "      <th>1</th>\n",
              "      <td>2</td>\n",
              "      <td>67.0</td>\n",
              "      <td>22.0</td>\n",
              "      <td>5.0</td>\n",
              "      <td>mardi</td>\n",
              "      <td>8</td>\n",
              "      <td>17</td>\n",
              "      <td>9</td>\n",
              "    </tr>\n",
              "    <tr>\n",
              "      <th>2</th>\n",
              "      <td>3</td>\n",
              "      <td>23.0</td>\n",
              "      <td>12.0</td>\n",
              "      <td>NaN</td>\n",
              "      <td>mercredi</td>\n",
              "      <td>8</td>\n",
              "      <td>17</td>\n",
              "      <td>9</td>\n",
              "    </tr>\n",
              "    <tr>\n",
              "      <th>3</th>\n",
              "      <td>4</td>\n",
              "      <td>19.0</td>\n",
              "      <td>34.0</td>\n",
              "      <td>9.0</td>\n",
              "      <td>jeudi</td>\n",
              "      <td>8</td>\n",
              "      <td>17</td>\n",
              "      <td>9</td>\n",
              "    </tr>\n",
              "    <tr>\n",
              "      <th>4</th>\n",
              "      <td>5</td>\n",
              "      <td>67.0</td>\n",
              "      <td>22.0</td>\n",
              "      <td>NaN</td>\n",
              "      <td>vendredi</td>\n",
              "      <td>8</td>\n",
              "      <td>17</td>\n",
              "      <td>9</td>\n",
              "    </tr>\n",
              "    <tr>\n",
              "      <th>5</th>\n",
              "      <td>6</td>\n",
              "      <td>0.0</td>\n",
              "      <td>0.0</td>\n",
              "      <td>2.0</td>\n",
              "      <td>samedi</td>\n",
              "      <td>10</td>\n",
              "      <td>18</td>\n",
              "      <td>8</td>\n",
              "    </tr>\n",
              "    <tr>\n",
              "      <th>6</th>\n",
              "      <td>7</td>\n",
              "      <td>0.0</td>\n",
              "      <td>0.0</td>\n",
              "      <td>2.0</td>\n",
              "      <td>dimanche</td>\n",
              "      <td>11</td>\n",
              "      <td>17</td>\n",
              "      <td>6</td>\n",
              "    </tr>\n",
              "    <tr>\n",
              "      <th>7</th>\n",
              "      <td>8</td>\n",
              "      <td>NaN</td>\n",
              "      <td>NaN</td>\n",
              "      <td>22.0</td>\n",
              "      <td>lundi</td>\n",
              "      <td>8</td>\n",
              "      <td>12</td>\n",
              "      <td>4</td>\n",
              "    </tr>\n",
              "    <tr>\n",
              "      <th>8</th>\n",
              "      <td>9</td>\n",
              "      <td>NaN</td>\n",
              "      <td>NaN</td>\n",
              "      <td>22.0</td>\n",
              "      <td>lundi</td>\n",
              "      <td>14</td>\n",
              "      <td>16</td>\n",
              "      <td>2</td>\n",
              "    </tr>\n",
              "    <tr>\n",
              "      <th>9</th>\n",
              "      <td>10</td>\n",
              "      <td>NaN</td>\n",
              "      <td>NaN</td>\n",
              "      <td>22.0</td>\n",
              "      <td>mercredi</td>\n",
              "      <td>10</td>\n",
              "      <td>15</td>\n",
              "      <td>5</td>\n",
              "    </tr>\n",
              "    <tr>\n",
              "      <th>10</th>\n",
              "      <td>13</td>\n",
              "      <td>67.0</td>\n",
              "      <td>22.0</td>\n",
              "      <td>NaN</td>\n",
              "      <td>lundi</td>\n",
              "      <td>9</td>\n",
              "      <td>3</td>\n",
              "      <td>18</td>\n",
              "    </tr>\n",
              "  </tbody>\n",
              "</table>\n",
              "</div>\n",
              "      <button class=\"colab-df-convert\" onclick=\"convertToInteractive('df-36744c01-2f09-41c7-b278-64e4543c3d53')\"\n",
              "              title=\"Convert this dataframe to an interactive table.\"\n",
              "              style=\"display:none;\">\n",
              "        \n",
              "  <svg xmlns=\"http://www.w3.org/2000/svg\" height=\"24px\"viewBox=\"0 0 24 24\"\n",
              "       width=\"24px\">\n",
              "    <path d=\"M0 0h24v24H0V0z\" fill=\"none\"/>\n",
              "    <path d=\"M18.56 5.44l.94 2.06.94-2.06 2.06-.94-2.06-.94-.94-2.06-.94 2.06-2.06.94zm-11 1L8.5 8.5l.94-2.06 2.06-.94-2.06-.94L8.5 2.5l-.94 2.06-2.06.94zm10 10l.94 2.06.94-2.06 2.06-.94-2.06-.94-.94-2.06-.94 2.06-2.06.94z\"/><path d=\"M17.41 7.96l-1.37-1.37c-.4-.4-.92-.59-1.43-.59-.52 0-1.04.2-1.43.59L10.3 9.45l-7.72 7.72c-.78.78-.78 2.05 0 2.83L4 21.41c.39.39.9.59 1.41.59.51 0 1.02-.2 1.41-.59l7.78-7.78 2.81-2.81c.8-.78.8-2.07 0-2.86zM5.41 20L4 18.59l7.72-7.72 1.47 1.35L5.41 20z\"/>\n",
              "  </svg>\n",
              "      </button>\n",
              "      \n",
              "  <style>\n",
              "    .colab-df-container {\n",
              "      display:flex;\n",
              "      flex-wrap:wrap;\n",
              "      gap: 12px;\n",
              "    }\n",
              "\n",
              "    .colab-df-convert {\n",
              "      background-color: #E8F0FE;\n",
              "      border: none;\n",
              "      border-radius: 50%;\n",
              "      cursor: pointer;\n",
              "      display: none;\n",
              "      fill: #1967D2;\n",
              "      height: 32px;\n",
              "      padding: 0 0 0 0;\n",
              "      width: 32px;\n",
              "    }\n",
              "\n",
              "    .colab-df-convert:hover {\n",
              "      background-color: #E2EBFA;\n",
              "      box-shadow: 0px 1px 2px rgba(60, 64, 67, 0.3), 0px 1px 3px 1px rgba(60, 64, 67, 0.15);\n",
              "      fill: #174EA6;\n",
              "    }\n",
              "\n",
              "    [theme=dark] .colab-df-convert {\n",
              "      background-color: #3B4455;\n",
              "      fill: #D2E3FC;\n",
              "    }\n",
              "\n",
              "    [theme=dark] .colab-df-convert:hover {\n",
              "      background-color: #434B5C;\n",
              "      box-shadow: 0px 1px 3px 1px rgba(0, 0, 0, 0.15);\n",
              "      filter: drop-shadow(0px 1px 2px rgba(0, 0, 0, 0.3));\n",
              "      fill: #FFFFFF;\n",
              "    }\n",
              "  </style>\n",
              "\n",
              "      <script>\n",
              "        const buttonEl =\n",
              "          document.querySelector('#df-36744c01-2f09-41c7-b278-64e4543c3d53 button.colab-df-convert');\n",
              "        buttonEl.style.display =\n",
              "          google.colab.kernel.accessAllowed ? 'block' : 'none';\n",
              "\n",
              "        async function convertToInteractive(key) {\n",
              "          const element = document.querySelector('#df-36744c01-2f09-41c7-b278-64e4543c3d53');\n",
              "          const dataTable =\n",
              "            await google.colab.kernel.invokeFunction('convertToInteractive',\n",
              "                                                     [key], {});\n",
              "          if (!dataTable) return;\n",
              "\n",
              "          const docLinkHtml = 'Like what you see? Visit the ' +\n",
              "            '<a target=\"_blank\" href=https://colab.research.google.com/notebooks/data_table.ipynb>data table notebook</a>'\n",
              "            + ' to learn more about interactive tables.';\n",
              "          element.innerHTML = '';\n",
              "          dataTable['output_type'] = 'display_data';\n",
              "          await google.colab.output.renderOutput(dataTable, element);\n",
              "          const docLink = document.createElement('div');\n",
              "          docLink.innerHTML = docLinkHtml;\n",
              "          element.appendChild(docLink);\n",
              "        }\n",
              "      </script>\n",
              "    </div>\n",
              "  </div>\n",
              "  "
            ]
          },
          "metadata": {},
          "execution_count": 63
        }
      ]
    },
    {
      "cell_type": "markdown",
      "source": [
        "Ce code crée un dataframe à partir de vos données, harmonise les jours et les heures, calcule la durée de chaque service, puis convertit toutes les colonnes d'heures en heures entières."
      ],
      "metadata": {
        "id": "PSCIsdYsgpN_"
      }
    },
    {
      "cell_type": "markdown",
      "source": [
        "## Histogramme des jours de la semaine"
      ],
      "metadata": {
        "id": "Jqr1hfnKk2Ni"
      }
    },
    {
      "cell_type": "code",
      "source": [
        "# Mettre les noms des jours de la semaine en minuscules pour l'uniformité\n",
        "df['jour'] = df['jour'].str.lower()\n",
        "\n",
        "# Créer un histogramme des jours de la semaine\n",
        "sns.countplot(data=df, x='jour', order=['lundi', 'mardi', 'mercredi', 'jeudi', 'vendredi', 'samedi', 'dimanche'])\n",
        "\n",
        "# Afficher le graphique\n",
        "plt.show()"
      ],
      "metadata": {
        "colab": {
          "base_uri": "https://localhost:8080/",
          "height": 449
        },
        "id": "yoAzuPlnkPjo",
        "outputId": "e0b31433-7048-4d1c-e264-e551abeed4d9"
      },
      "execution_count": 64,
      "outputs": [
        {
          "output_type": "display_data",
          "data": {
            "text/plain": [
              "<Figure size 640x480 with 1 Axes>"
            ],
            "image/png": "[encoded data removed]"
          },
          "metadata": {}
        }
      ]
    },
    {
      "cell_type": "markdown",
      "source": [
        "## Nombre de services par client"
      ],
      "metadata": {
        "id": "-R_NaOUzk3A-"
      }
    },
    {
      "cell_type": "code",
      "source": [
        "# Créer un histogramme des services par client\n",
        "sns.countplot(data=df, x='client_id')\n",
        "\n",
        "# Afficher le graphique\n",
        "plt.show()"
      ],
      "metadata": {
        "colab": {
          "base_uri": "https://localhost:8080/",
          "height": 450
        },
        "id": "JH7629PMkT-4",
        "outputId": "1f7acdb1-0918-48ae-a925-8b7683706d6f"
      },
      "execution_count": 66,
      "outputs": [
        {
          "output_type": "display_data",
          "data": {
            "text/plain": [
              "<Figure size 640x480 with 1 Axes>"
            ],
            "image/png": "[encoded data removed]"
          },
          "metadata": {}
        }
      ]
    },
    {
      "cell_type": "markdown",
      "source": [
        "## Nombre de services par emplacement"
      ],
      "metadata": {
        "id": "Cj2Rb_f1qUwK"
      }
    },
    {
      "cell_type": "code",
      "source": [
        "sns.countplot(data=df, x='location_id')\n",
        "plt.title(\"Nombre de services par emplacement\")\n",
        "plt.show()"
      ],
      "metadata": {
        "colab": {
          "base_uri": "https://localhost:8080/",
          "height": 472
        },
        "id": "z1RvfiQUpkGL",
        "outputId": "6f20867d-fb65-4a61-be1c-606a7852af9f"
      },
      "execution_count": 68,
      "outputs": [
        {
          "output_type": "display_data",
          "data": {
            "text/plain": [
              "<Figure size 640x480 with 1 Axes>"
            ],
            "image/png": "[encoded data removed]"
          },
          "metadata": {}
        }
      ]
    },
    {
      "cell_type": "markdown",
      "source": [
        "## Répartition des heures de début "
      ],
      "metadata": {
        "id": "VwV2vVGcqfX2"
      }
    },
    {
      "cell_type": "markdown",
      "source": [
        "**Pierre**: Créer un histogramme des heures de début"
      ],
      "metadata": {
        "id": "NW8OPizWg278"
      }
    },
    {
      "cell_type": "markdown",
      "source": [
        "Pour créer un histogramme des heures de début, vous pouvez utiliser la bibliothèque matplotlib, qui est une bibliothèque de visualisation de données couramment utilisée en Python. Voici comment vous pouvez le faire :"
      ],
      "metadata": {
        "id": "lRUQRAAsg72j"
      }
    },
    {
      "cell_type": "code",
      "source": [
        "import matplotlib.pyplot as plt\n",
        "\n",
        "# Création de l'histogramme\n",
        "plt.hist(df2['heure_début'], bins=range(min(df2['heure_début']), max(df2['heure_début']) + 2), align='left', color='skyblue', edgecolor='black')\n",
        "\n",
        "plt.title('Histogramme des heures de début')\n",
        "plt.xlabel('Heure de début')\n",
        "plt.ylabel('Nombre de services')\n",
        "\n",
        "plt.show()"
      ],
      "metadata": {
        "colab": {
          "base_uri": "https://localhost:8080/",
          "height": 472
        },
        "id": "U8M_8MbPqYNF",
        "outputId": "e8057677-abd8-4b19-f54e-a932f974db45"
      },
      "execution_count": 73,
      "outputs": [
        {
          "output_type": "display_data",
          "data": {
            "text/plain": [
              "<Figure size 640x480 with 1 Axes>"
            ],
            "image/png": "[encoded data removed]"
          },
          "metadata": {}
        }
      ]
    },
    {
      "cell_type": "markdown",
      "source": [
        "Ce code crée un histogramme où chaque barre représente une heure de début différente, et la hauteur de la barre indique le nombre de services qui commencent à cette heure. Le paramètre bins est défini pour s'assurer que chaque heure est représentée par une barre distincte."
      ],
      "metadata": {
        "id": "Co0BMRFNidcS"
      }
    },
    {
      "cell_type": "markdown",
      "source": [
        "## Répartition des services par jour et heure de début"
      ],
      "metadata": {
        "id": "TNwHYq16qnHX"
      }
    },
    {
      "cell_type": "markdown",
      "source": [
        "**Pierre**: Créer un tableau croisé dynamique des services par jour et heure de début"
      ],
      "metadata": {
        "id": "QC2NXXiPh37O"
      }
    },
    {
      "cell_type": "markdown",
      "source": [
        "Pour créer un tableau croisé dynamique (ou pivot table) des services par jour et heure de début, vous pouvez utiliser la fonction pivot_table de pandas. Voici comment vous pouvez le faire "
      ],
      "metadata": {
        "id": "ZguMNIWZilQk"
      }
    },
    {
      "cell_type": "code",
      "source": [
        "# Création du tableau croisé dynamique\n",
        "pivot_table = df.pivot_table(index='jour', columns='heure_début', values='service_id', aggfunc='count')\n",
        "\n",
        "# Remplacement des valeurs NaN par 0\n",
        "pivot_table = pivot_table.fillna(0)\n",
        "\n",
        "print(pivot_table)"
      ],
      "metadata": {
        "colab": {
          "base_uri": "https://localhost:8080/"
        },
        "id": "kM_8jyq1qiMD",
        "outputId": "0e248988-bc9f-4ad0-8135-f1338f9a32f4"
      },
      "execution_count": 75,
      "outputs": [
        {
          "output_type": "stream",
          "name": "stdout",
          "text": [
            "heure_début   8    9    10   11   14\n",
            "jour                                \n",
            "dimanche     0.0  0.0  0.0  1.0  0.0\n",
            "jeudi        1.0  0.0  0.0  0.0  0.0\n",
            "lundi        2.0  0.0  0.0  0.0  1.0\n",
            "mardi        1.0  0.0  0.0  0.0  0.0\n",
            "mercredi     0.0  0.0  1.0  0.0  0.0\n",
            "samedi       0.0  0.0  1.0  0.0  0.0\n",
            "vendredi     0.0  0.0  0.0  0.0  0.0\n"
          ]
        }
      ]
    },
    {
      "cell_type": "markdown",
      "source": [
        "Ce code crée un tableau où les lignes représentent les jours de la semaine et les colonnes représentent les heures de début. Chaque cellule du tableau indique le nombre de services qui commencent à une certaine heure un certain jour.\n",
        "\n",
        "Notez que nous utilisons fillna(0) pour remplacer les valeurs NaN par 0, car NaN signifie qu'il n'y a pas de services qui commencent à une certaine heure un certain jour."
      ],
      "metadata": {
        "id": "nZ-Kcgcviox2"
      }
    },
    {
      "cell_type": "markdown",
      "source": [
        "**Pierre**: Corrige le code précédent avec sns.heatmap."
      ],
      "metadata": {
        "id": "MpmMC4uUiRdK"
      }
    },
    {
      "cell_type": "markdown",
      "source": [
        "D'accord, si vous voulez visualiser le tableau croisé dynamique sous forme de carte de chaleur (heatmap) en utilisant la bibliothèque seaborn, vous pouvez le faire comme suit :"
      ],
      "metadata": {
        "id": "xFPZZcLcisiH"
      }
    },
    {
      "cell_type": "code",
      "source": [
        "df"
      ],
      "metadata": {
        "colab": {
          "base_uri": "https://localhost:8080/",
          "height": 394
        },
        "id": "fyON1_9sjDmm",
        "outputId": "89a1ad46-6a9f-41c1-f72b-4177c931f8e2"
      },
      "execution_count": 78,
      "outputs": [
        {
          "output_type": "execute_result",
          "data": {
            "text/plain": [
              "    id  client_id  location_id  service_id      jour  heure_début  heure_fin  \\\n",
              "0    1       67.0         22.0         5.0     lundi            8         17   \n",
              "1    2       67.0         22.0         5.0     mardi            8         17   \n",
              "2    3       23.0         12.0         NaN  mercredi            8         17   \n",
              "3    4       19.0         34.0         9.0     jeudi            8         17   \n",
              "4    5       67.0         22.0         NaN  vendredi            8         17   \n",
              "5    6        0.0          0.0         2.0    samedi           10         18   \n",
              "6    7        0.0          0.0         2.0  dimanche           11         17   \n",
              "7    8        NaN          NaN        22.0     lundi            8         12   \n",
              "8    9        NaN          NaN        22.0     lundi           14         16   \n",
              "9   10        NaN          NaN        22.0  mercredi           10         15   \n",
              "10  13       67.0         22.0         NaN     lundi            9          3   \n",
              "\n",
              "    durée  \n",
              "0       9  \n",
              "1       9  \n",
              "2       9  \n",
              "3       9  \n",
              "4       9  \n",
              "5       8  \n",
              "6       6  \n",
              "7       4  \n",
              "8       2  \n",
              "9       5  \n",
              "10     18  "
            ],
            "text/html": [
              "\n",
              "  <div id=\"df-1c7c59e2-37a7-475d-b192-b67abaea5a60\">\n",
              "    <div class=\"colab-df-container\">\n",
              "      <div>\n",
              "<style scoped>\n",
              "    .dataframe tbody tr th:only-of-type {\n",
              "        vertical-align: middle;\n",
              "    }\n",
              "\n",
              "    .dataframe tbody tr th {\n",
              "        vertical-align: top;\n",
              "    }\n",
              "\n",
              "    .dataframe thead th {\n",
              "        text-align: right;\n",
              "    }\n",
              "</style>\n",
              "<table border=\"1\" class=\"dataframe\">\n",
              "  <thead>\n",
              "    <tr style=\"text-align: right;\">\n",
              "      <th></th>\n",
              "      <th>id</th>\n",
              "      <th>client_id</th>\n",
              "      <th>location_id</th>\n",
              "      <th>service_id</th>\n",
              "      <th>jour</th>\n",
              "      <th>heure_début</th>\n",
              "      <th>heure_fin</th>\n",
              "      <th>durée</th>\n",
              "    </tr>\n",
              "  </thead>\n",
              "  <tbody>\n",
              "    <tr>\n",
              "      <th>0</th>\n",
              "      <td>1</td>\n",
              "      <td>67.0</td>\n",
              "      <td>22.0</td>\n",
              "      <td>5.0</td>\n",
              "      <td>lundi</td>\n",
              "      <td>8</td>\n",
              "      <td>17</td>\n",
              "      <td>9</td>\n",
              "    </tr>\n",
              "    <tr>\n",
              "      <th>1</th>\n",
              "      <td>2</td>\n",
              "      <td>67.0</td>\n",
              "      <td>22.0</td>\n",
              "      <td>5.0</td>\n",
              "      <td>mardi</td>\n",
              "      <td>8</td>\n",
              "      <td>17</td>\n",
              "      <td>9</td>\n",
              "    </tr>\n",
              "    <tr>\n",
              "      <th>2</th>\n",
              "      <td>3</td>\n",
              "      <td>23.0</td>\n",
              "      <td>12.0</td>\n",
              "      <td>NaN</td>\n",
              "      <td>mercredi</td>\n",
              "      <td>8</td>\n",
              "      <td>17</td>\n",
              "      <td>9</td>\n",
              "    </tr>\n",
              "    <tr>\n",
              "      <th>3</th>\n",
              "      <td>4</td>\n",
              "      <td>19.0</td>\n",
              "      <td>34.0</td>\n",
              "      <td>9.0</td>\n",
              "      <td>jeudi</td>\n",
              "      <td>8</td>\n",
              "      <td>17</td>\n",
              "      <td>9</td>\n",
              "    </tr>\n",
              "    <tr>\n",
              "      <th>4</th>\n",
              "      <td>5</td>\n",
              "      <td>67.0</td>\n",
              "      <td>22.0</td>\n",
              "      <td>NaN</td>\n",
              "      <td>vendredi</td>\n",
              "      <td>8</td>\n",
              "      <td>17</td>\n",
              "      <td>9</td>\n",
              "    </tr>\n",
              "    <tr>\n",
              "      <th>5</th>\n",
              "      <td>6</td>\n",
              "      <td>0.0</td>\n",
              "      <td>0.0</td>\n",
              "      <td>2.0</td>\n",
              "      <td>samedi</td>\n",
              "      <td>10</td>\n",
              "      <td>18</td>\n",
              "      <td>8</td>\n",
              "    </tr>\n",
              "    <tr>\n",
              "      <th>6</th>\n",
              "      <td>7</td>\n",
              "      <td>0.0</td>\n",
              "      <td>0.0</td>\n",
              "      <td>2.0</td>\n",
              "      <td>dimanche</td>\n",
              "      <td>11</td>\n",
              "      <td>17</td>\n",
              "      <td>6</td>\n",
              "    </tr>\n",
              "    <tr>\n",
              "      <th>7</th>\n",
              "      <td>8</td>\n",
              "      <td>NaN</td>\n",
              "      <td>NaN</td>\n",
              "      <td>22.0</td>\n",
              "      <td>lundi</td>\n",
              "      <td>8</td>\n",
              "      <td>12</td>\n",
              "      <td>4</td>\n",
              "    </tr>\n",
              "    <tr>\n",
              "      <th>8</th>\n",
              "      <td>9</td>\n",
              "      <td>NaN</td>\n",
              "      <td>NaN</td>\n",
              "      <td>22.0</td>\n",
              "      <td>lundi</td>\n",
              "      <td>14</td>\n",
              "      <td>16</td>\n",
              "      <td>2</td>\n",
              "    </tr>\n",
              "    <tr>\n",
              "      <th>9</th>\n",
              "      <td>10</td>\n",
              "      <td>NaN</td>\n",
              "      <td>NaN</td>\n",
              "      <td>22.0</td>\n",
              "      <td>mercredi</td>\n",
              "      <td>10</td>\n",
              "      <td>15</td>\n",
              "      <td>5</td>\n",
              "    </tr>\n",
              "    <tr>\n",
              "      <th>10</th>\n",
              "      <td>13</td>\n",
              "      <td>67.0</td>\n",
              "      <td>22.0</td>\n",
              "      <td>NaN</td>\n",
              "      <td>lundi</td>\n",
              "      <td>9</td>\n",
              "      <td>3</td>\n",
              "      <td>18</td>\n",
              "    </tr>\n",
              "  </tbody>\n",
              "</table>\n",
              "</div>\n",
              "      <button class=\"colab-df-convert\" onclick=\"convertToInteractive('df-1c7c59e2-37a7-475d-b192-b67abaea5a60')\"\n",
              "              title=\"Convert this dataframe to an interactive table.\"\n",
              "              style=\"display:none;\">\n",
              "        \n",
              "  <svg xmlns=\"http://www.w3.org/2000/svg\" height=\"24px\"viewBox=\"0 0 24 24\"\n",
              "       width=\"24px\">\n",
              "    <path d=\"M0 0h24v24H0V0z\" fill=\"none\"/>\n",
              "    <path d=\"M18.56 5.44l.94 2.06.94-2.06 2.06-.94-2.06-.94-.94-2.06-.94 2.06-2.06.94zm-11 1L8.5 8.5l.94-2.06 2.06-.94-2.06-.94L8.5 2.5l-.94 2.06-2.06.94zm10 10l.94 2.06.94-2.06 2.06-.94-2.06-.94-.94-2.06-.94 2.06-2.06.94z\"/><path d=\"M17.41 7.96l-1.37-1.37c-.4-.4-.92-.59-1.43-.59-.52 0-1.04.2-1.43.59L10.3 9.45l-7.72 7.72c-.78.78-.78 2.05 0 2.83L4 21.41c.39.39.9.59 1.41.59.51 0 1.02-.2 1.41-.59l7.78-7.78 2.81-2.81c.8-.78.8-2.07 0-2.86zM5.41 20L4 18.59l7.72-7.72 1.47 1.35L5.41 20z\"/>\n",
              "  </svg>\n",
              "      </button>\n",
              "      \n",
              "  <style>\n",
              "    .colab-df-container {\n",
              "      display:flex;\n",
              "      flex-wrap:wrap;\n",
              "      gap: 12px;\n",
              "    }\n",
              "\n",
              "    .colab-df-convert {\n",
              "      background-color: #E8F0FE;\n",
              "      border: none;\n",
              "      border-radius: 50%;\n",
              "      cursor: pointer;\n",
              "      display: none;\n",
              "      fill: #1967D2;\n",
              "      height: 32px;\n",
              "      padding: 0 0 0 0;\n",
              "      width: 32px;\n",
              "    }\n",
              "\n",
              "    .colab-df-convert:hover {\n",
              "      background-color: #E2EBFA;\n",
              "      box-shadow: 0px 1px 2px rgba(60, 64, 67, 0.3), 0px 1px 3px 1px rgba(60, 64, 67, 0.15);\n",
              "      fill: #174EA6;\n",
              "    }\n",
              "\n",
              "    [theme=dark] .colab-df-convert {\n",
              "      background-color: #3B4455;\n",
              "      fill: #D2E3FC;\n",
              "    }\n",
              "\n",
              "    [theme=dark] .colab-df-convert:hover {\n",
              "      background-color: #434B5C;\n",
              "      box-shadow: 0px 1px 3px 1px rgba(0, 0, 0, 0.15);\n",
              "      filter: drop-shadow(0px 1px 2px rgba(0, 0, 0, 0.3));\n",
              "      fill: #FFFFFF;\n",
              "    }\n",
              "  </style>\n",
              "\n",
              "      <script>\n",
              "        const buttonEl =\n",
              "          document.querySelector('#df-1c7c59e2-37a7-475d-b192-b67abaea5a60 button.colab-df-convert');\n",
              "        buttonEl.style.display =\n",
              "          google.colab.kernel.accessAllowed ? 'block' : 'none';\n",
              "\n",
              "        async function convertToInteractive(key) {\n",
              "          const element = document.querySelector('#df-1c7c59e2-37a7-475d-b192-b67abaea5a60');\n",
              "          const dataTable =\n",
              "            await google.colab.kernel.invokeFunction('convertToInteractive',\n",
              "                                                     [key], {});\n",
              "          if (!dataTable) return;\n",
              "\n",
              "          const docLinkHtml = 'Like what you see? Visit the ' +\n",
              "            '<a target=\"_blank\" href=https://colab.research.google.com/notebooks/data_table.ipynb>data table notebook</a>'\n",
              "            + ' to learn more about interactive tables.';\n",
              "          element.innerHTML = '';\n",
              "          dataTable['output_type'] = 'display_data';\n",
              "          await google.colab.output.renderOutput(dataTable, element);\n",
              "          const docLink = document.createElement('div');\n",
              "          docLink.innerHTML = docLinkHtml;\n",
              "          element.appendChild(docLink);\n",
              "        }\n",
              "      </script>\n",
              "    </div>\n",
              "  </div>\n",
              "  "
            ]
          },
          "metadata": {},
          "execution_count": 78
        }
      ]
    },
    {
      "cell_type": "code",
      "source": [
        "import seaborn as sns\n",
        "\n",
        "# Création du tableau croisé dynamique\n",
        "pivot_table = df.pivot_table(index='jour', columns='heure_début', values='service_id', aggfunc='count')\n",
        "\n",
        "# Remplacement des valeurs NaN par 0\n",
        "pivot_table = pivot_table.fillna(0)\n",
        "\n",
        "# Création de la carte de chaleur\n",
        "plt.figure(figsize=(10, 7))  # définit la taille de la figure\n",
        "sns.heatmap(pivot_table, cmap='YlGnBu', annot=True, fmt=\".0f\")\n",
        "\n",
        "plt.title('Services par jour et heure de début')\n",
        "plt.xlabel('Heure de début')\n",
        "plt.ylabel('Jour')\n",
        "\n",
        "plt.show()"
      ],
      "metadata": {
        "colab": {
          "base_uri": "https://localhost:8080/",
          "height": 642
        },
        "id": "CitSArBFiAiS",
        "outputId": "a5862b12-de7d-4b4e-901c-193f530bf45c"
      },
      "execution_count": 77,
      "outputs": [
        {
          "output_type": "display_data",
          "data": {
            "text/plain": [
              "<Figure size 1000x700 with 2 Axes>"
            ],
            "image/png": "[encoded data removed]"
          },
          "metadata": {}
        }
      ]
    },
    {
      "cell_type": "markdown",
      "source": [
        "Ce code crée une carte de chaleur où les lignes représentent les jours de la semaine et les colonnes représentent les heures de début. La couleur de chaque cellule indique le nombre de services qui commencent à une certaine heure un certain jour. Les valeurs sont également annotées sur la carte pour une meilleure lisibilité."
      ],
      "metadata": {
        "id": "sSbMi-wzjOjV"
      }
    },
    {
      "cell_type": "markdown",
      "source": [
        "**Pierre**: Modifie dans le code précédent le cmap par coolwarm."
      ],
      "metadata": {
        "id": "Cnr64-6BjYnq"
      }
    },
    {
      "cell_type": "markdown",
      "source": [
        "D'accord, pour changer la palette de couleurs de la carte de chaleur à 'coolwarm', vous pouvez simplement modifier le paramètre cmap dans la fonction sns.heatmap. Voici comment vous pouvez le faire :"
      ],
      "metadata": {
        "id": "5GJfOulejgxe"
      }
    },
    {
      "cell_type": "code",
      "source": [
        "# Création du tableau croisé dynamique\n",
        "pivot_table = df.pivot_table(index='jour', columns='heure_début', values='service_id', aggfunc='count')\n",
        "\n",
        "# Remplacement des valeurs NaN par 0\n",
        "pivot_table = pivot_table.fillna(0)\n",
        "\n",
        "# Création de la carte de chaleur\n",
        "plt.figure(figsize=(10, 7))  # définit la taille de la figure\n",
        "sns.heatmap(pivot_table, cmap='coolwarm', annot=True, fmt=\".0f\")\n",
        "\n",
        "plt.title('Services par jour et heure de début')\n",
        "plt.xlabel('Heure de début')\n",
        "plt.ylabel('Jour')\n",
        "\n",
        "plt.show()"
      ],
      "metadata": {
        "colab": {
          "base_uri": "https://localhost:8080/",
          "height": 642
        },
        "id": "iQeJdwTkjb4-",
        "outputId": "9defc849-978f-4c00-e76f-b3352cd76ed2"
      },
      "execution_count": 79,
      "outputs": [
        {
          "output_type": "display_data",
          "data": {
            "text/plain": [
              "<Figure size 1000x700 with 2 Axes>"
            ],
            "image/png": "[encoded data removed]"
          },
          "metadata": {}
        }
      ]
    },
    {
      "cell_type": "markdown",
      "source": [
        "Maintenant, la carte de chaleur utilise la palette de couleurs 'coolwarm', qui varie du bleu (valeurs faibles) au rouge (valeurs élevées)."
      ],
      "metadata": {
        "id": "eD_1zuYAjpEV"
      }
    },
    {
      "cell_type": "markdown",
      "source": [
        "## Durée des services"
      ],
      "metadata": {
        "id": "qpGIuJm5qtF-"
      }
    },
    {
      "cell_type": "markdown",
      "source": [
        "**Pierre**: Créer un histogramme des durées de service"
      ],
      "metadata": {
        "id": "A9r6pP8Xjvef"
      }
    },
    {
      "cell_type": "markdown",
      "source": [
        "Pour créer un histogramme des durées de service, vous pouvez utiliser la fonction hist de matplotlib.pyplot, similairement à ce que nous avons fait pour l'heure de début. Voici comment vous pouvez le faire :"
      ],
      "metadata": {
        "id": "LPIRNACpj3ZC"
      }
    },
    {
      "cell_type": "code",
      "source": [
        "# Création de l'histogramme\n",
        "plt.hist(df['durée'], bins=range(min(df['durée']), max(df['durée']) + 2), align='left', color='skyblue', edgecolor='black')\n",
        "\n",
        "plt.title('Histogramme des durées de service')\n",
        "plt.xlabel('Durée (heures)')\n",
        "plt.ylabel('Nombre de services')\n",
        "\n",
        "plt.show()"
      ],
      "metadata": {
        "colab": {
          "base_uri": "https://localhost:8080/",
          "height": 472
        },
        "id": "PbKZ_HgVqplT",
        "outputId": "3b6fbcd4-12c9-48b5-ecd9-372f26ec210d"
      },
      "execution_count": 81,
      "outputs": [
        {
          "output_type": "display_data",
          "data": {
            "text/plain": [
              "<Figure size 640x480 with 1 Axes>"
            ],
            "image/png": "[encoded data removed]"
          },
          "metadata": {}
        }
      ]
    },
    {
      "cell_type": "markdown",
      "source": [
        "Ce code crée un histogramme où chaque barre représente une durée de service différente (en heures), et la hauteur de la barre indique le nombre de services de cette durée. Le paramètre bins est défini pour s'assurer que chaque durée est représentée par une barre distincte."
      ],
      "metadata": {
        "id": "TBC1HLmekuoY"
      }
    },
    {
      "cell_type": "markdown",
      "source": [
        "## Nombre d'heures travaillées pour le client 67"
      ],
      "metadata": {
        "id": "KDRurakksRmR"
      }
    },
    {
      "cell_type": "markdown",
      "source": [
        "**Pierre**: Quel est le nombre d'heures travaillées pour le client 67?"
      ],
      "metadata": {
        "id": "QB9WIF0Uk3FF"
      }
    },
    {
      "cell_type": "markdown",
      "source": [
        "Pour trouver le nombre total d'heures travaillées pour le client 67, vous pouvez filtrer le dataframe pour ne garder que les lignes concernant ce client, puis sommer la colonne 'durée'. Voici comment vous pouvez le faire :"
      ],
      "metadata": {
        "id": "EwxcF8M4k7gK"
      }
    },
    {
      "cell_type": "code",
      "source": [
        "# Filtrage du dataframe pour le client 67\n",
        "df_client_67 = df[df['client_id'] == '67.']\n",
        "\n",
        "# Calcul du total des heures travaillées\n",
        "total_heures = df_client_67['durée'].sum()\n",
        "\n",
        "print(f\"Le nombre total d'heures travaillées pour le client 67 est de {total_heures} heures.\")"
      ],
      "metadata": {
        "colab": {
          "base_uri": "https://localhost:8080/"
        },
        "id": "V41Nu4RYqwT1",
        "outputId": "7fd22c89-7792-4728-ca01-91b97ceabaeb"
      },
      "execution_count": 85,
      "outputs": [
        {
          "output_type": "stream",
          "name": "stdout",
          "text": [
            "Le nombre total d'heures travaillées pour le client 67 est de 0 heures.\n"
          ]
        }
      ]
    },
    {
      "cell_type": "markdown",
      "source": [
        "**Pierre**: Erreur, la colonne client_id est de type float. Recommence."
      ],
      "metadata": {
        "id": "8nyvINxSluqG"
      }
    },
    {
      "cell_type": "markdown",
      "source": [
        "Je m'excuse pour cette erreur. En effet, le type de la colonne client_id est float. Lors de la comparaison, nous devons donc utiliser le nombre 67 (sans les guillemets). Voici le code corrigé :"
      ],
      "metadata": {
        "id": "vvywSZukl02w"
      }
    },
    {
      "cell_type": "code",
      "source": [
        "# Filtrage du dataframe pour le client 67\n",
        "df_client_67 = df[df['client_id'] == 67.0]\n",
        "\n",
        "# Calcul du total des heures travaillées\n",
        "total_heures = df_client_67['durée'].sum()\n",
        "\n",
        "print(f\"Le nombre total d'heures travaillées pour le client 67 est de {total_heures} heures.\")"
      ],
      "metadata": {
        "id": "I7-3TZfNXAga",
        "outputId": "3897a6ef-cb56-4cb6-fdd0-8a57fa687ca4",
        "colab": {
          "base_uri": "https://localhost:8080/"
        }
      },
      "execution_count": 91,
      "outputs": [
        {
          "output_type": "stream",
          "name": "stdout",
          "text": [
            "Le nombre total d'heures travaillées pour le client 67 est de 45 heures.\n"
          ]
        }
      ]
    },
    {
      "cell_type": "markdown",
      "source": [
        "Ce code crée un nouveau dataframe contenant uniquement les services pour le client 67, puis calcule la somme de la colonne 'durée' de ce dataframe pour obtenir le nombre total d'heures travaillées pour ce client."
      ],
      "metadata": {
        "id": "R9Ex0c9Xl_MR"
      }
    },
    {
      "cell_type": "markdown",
      "source": [
        "## Facturation mensuelle par extrapolation"
      ],
      "metadata": {
        "id": "LnJyrsLSnsPM"
      }
    },
    {
      "cell_type": "markdown",
      "source": [
        "**Pierre**: Ce tableau de données corresponde à 2 semaines de travail. Le taux horaire est de 120 euros. Calcule la facturation mensuelle en extrapolant ces données, puis donne moi le code de la visualization de cette facturation par jour sur un mois."
      ],
      "metadata": {
        "id": "yJK1C4MMnwtH"
      }
    },
    {
      "cell_type": "markdown",
      "source": [
        "Pour extrapoler ces données à un mois, nous devons d'abord calculer le nombre total d'heures travaillées sur les deux semaines, puis multiplier ce nombre par le taux horaire pour obtenir la facturation pour deux semaines. Nous pouvons ensuite multiplier ce montant par 2 pour obtenir la facturation mensuelle.\n",
        "\n",
        "Pour visualiser la facturation par jour sur un mois, nous pouvons créer un dataframe qui contient la facturation pour chaque jour des deux semaines, puis répéter ce dataframe pour couvrir un mois entier.\n",
        "\n",
        "Voici comment vous pouvez le faire :"
      ],
      "metadata": {
        "id": "f2yppYpAn1-u"
      }
    },
    {
      "cell_type": "code",
      "source": [
        "# Calcul de la facturation pour deux semaines\n",
        "facturation_deux_semaines = total_heures * 120\n",
        "\n",
        "# Extrapolation à un mois\n",
        "facturation_mensuelle = facturation_deux_semaines * 2\n",
        "\n",
        "print(f\"La facturation mensuelle pour le client 67 est de {facturation_mensuelle} euros.\")\n",
        "\n",
        "# Création d'un dataframe pour la facturation par jour\n",
        "df_facturation_par_jour = df[df['client_id'] == 67.0].groupby('jour')['durée'].sum().reset_index()\n",
        "df_facturation_par_jour['facturation'] = df_facturation_par_jour['durée'] * 120\n",
        "\n",
        "# Répétition du dataframe pour couvrir un mois entier\n",
        "df_facturation_par_jour = pd.concat([df_facturation_par_jour]*4, ignore_index=True)\n",
        "\n",
        "# Création du graphique de la facturation par jour sur un mois\n",
        "plt.figure(figsize=(10, 7))\n",
        "sns.lineplot(data=df_facturation_par_jour, x=range(len(df_facturation_par_jour)), y='facturation')\n",
        "\n",
        "plt.title('Facturation par jour sur un mois pour le client 67')\n",
        "plt.xlabel('Jour du mois')\n",
        "plt.ylabel('Facturation (euros)')\n",
        "\n",
        "plt.show()"
      ],
      "metadata": {
        "colab": {
          "base_uri": "https://localhost:8080/",
          "height": 659
        },
        "id": "nSf1uYT5ap-S",
        "outputId": "db5ba482-1f83-4a99-8a52-6a5d013bc271"
      },
      "execution_count": 92,
      "outputs": [
        {
          "output_type": "stream",
          "name": "stdout",
          "text": [
            "La facturation mensuelle pour le client 67 est de 10800 euros.\n"
          ]
        },
        {
          "output_type": "display_data",
          "data": {
            "text/plain": [
              "<Figure size 1000x700 with 1 Axes>"
            ],
            "image/png": "[encoded data removed]"
          },
          "metadata": {}
        }
      ]
    },
    {
      "cell_type": "markdown",
      "source": [
        "Ce code calcule d'abord la facturation mensuelle pour le client 67, puis crée un dataframe qui contient la facturation pour chaque jour des deux semaines. Ce dataframe est ensuite répété pour couvrir un mois entier. Enfin, un graphique de la facturation par jour sur un mois est créé."
      ],
      "metadata": {
        "id": "uAf1eboFoEnp"
      }
    },
    {
      "cell_type": "markdown",
      "source": [
        "**Pierre**: Je veux cette visualization en tenant compte de tous les clients. Je veux une seule courbe."
      ],
      "metadata": {
        "id": "Cku6RRr_oRrx"
      }
    },
    {
      "cell_type": "markdown",
      "source": [
        "Pour visualiser la facturation pour tous les clients, nous devons d'abord calculer la facturation pour chaque jour pour tous les clients. Ensuite, nous pouvons créer un graphique qui montre cette facturation cumulée par jour pour un mois entier. Voici comment vous pouvez faire cela :"
      ],
      "metadata": {
        "id": "z9ja3rK2oW7S"
      }
    },
    {
      "cell_type": "code",
      "source": [
        "# Calcul de la facturation pour chaque jour pour tous les clients\n",
        "df_facturation_par_jour = df.groupby('jour')['durée'].sum().reset_index()\n",
        "df_facturation_par_jour['facturation'] = df_facturation_par_jour['durée'] * 120\n",
        "\n",
        "# Répétition du dataframe pour couvrir un mois entier\n",
        "df_facturation_par_jour = pd.concat([df_facturation_par_jour]*4, ignore_index=True)\n",
        "\n",
        "# Création du graphique de la facturation par jour sur un mois pour tous les clients\n",
        "plt.figure(figsize=(10, 7))\n",
        "sns.lineplot(data=df_facturation_par_jour, x=range(len(df_facturation_par_jour)), y='facturation')\n",
        "\n",
        "plt.title('Facturation par jour sur un mois pour tous les clients')\n",
        "plt.xlabel('Jour du mois')\n",
        "plt.ylabel('Facturation (euros)')\n",
        "\n",
        "plt.show()"
      ],
      "metadata": {
        "colab": {
          "base_uri": "https://localhost:8080/",
          "height": 641
        },
        "id": "M-heLuXYoA4i",
        "outputId": "469405cc-e0a4-43a1-c0cf-acf99422c07c"
      },
      "execution_count": 93,
      "outputs": [
        {
          "output_type": "display_data",
          "data": {
            "text/plain": [
              "<Figure size 1000x700 with 1 Axes>"
            ],
            "image/png": "[encoded data removed]"
          },
          "metadata": {}
        }
      ]
    },
    {
      "cell_type": "code",
      "source": [
        "df_facturation_par_jour"
      ],
      "metadata": {
        "colab": {
          "base_uri": "https://localhost:8080/",
          "height": 928
        },
        "id": "sX9ogJRQoswr",
        "outputId": "ccecdadc-261b-490b-93e5-2ed791c59dee"
      },
      "execution_count": 94,
      "outputs": [
        {
          "output_type": "execute_result",
          "data": {
            "text/plain": [
              "        jour  durée  facturation\n",
              "0   dimanche      6          720\n",
              "1      jeudi      9         1080\n",
              "2      lundi     33         3960\n",
              "3      mardi      9         1080\n",
              "4   mercredi     14         1680\n",
              "5     samedi      8          960\n",
              "6   vendredi      9         1080\n",
              "7   dimanche      6          720\n",
              "8      jeudi      9         1080\n",
              "9      lundi     33         3960\n",
              "10     mardi      9         1080\n",
              "11  mercredi     14         1680\n",
              "12    samedi      8          960\n",
              "13  vendredi      9         1080\n",
              "14  dimanche      6          720\n",
              "15     jeudi      9         1080\n",
              "16     lundi     33         3960\n",
              "17     mardi      9         1080\n",
              "18  mercredi     14         1680\n",
              "19    samedi      8          960\n",
              "20  vendredi      9         1080\n",
              "21  dimanche      6          720\n",
              "22     jeudi      9         1080\n",
              "23     lundi     33         3960\n",
              "24     mardi      9         1080\n",
              "25  mercredi     14         1680\n",
              "26    samedi      8          960\n",
              "27  vendredi      9         1080"
            ],
            "text/html": [
              "\n",
              "  <div id=\"df-42a55c15-a434-4ff0-bcdd-8e365afbf3ed\">\n",
              "    <div class=\"colab-df-container\">\n",
              "      <div>\n",
              "<style scoped>\n",
              "    .dataframe tbody tr th:only-of-type {\n",
              "        vertical-align: middle;\n",
              "    }\n",
              "\n",
              "    .dataframe tbody tr th {\n",
              "        vertical-align: top;\n",
              "    }\n",
              "\n",
              "    .dataframe thead th {\n",
              "        text-align: right;\n",
              "    }\n",
              "</style>\n",
              "<table border=\"1\" class=\"dataframe\">\n",
              "  <thead>\n",
              "    <tr style=\"text-align: right;\">\n",
              "      <th></th>\n",
              "      <th>jour</th>\n",
              "      <th>durée</th>\n",
              "      <th>facturation</th>\n",
              "    </tr>\n",
              "  </thead>\n",
              "  <tbody>\n",
              "    <tr>\n",
              "      <th>0</th>\n",
              "      <td>dimanche</td>\n",
              "      <td>6</td>\n",
              "      <td>720</td>\n",
              "    </tr>\n",
              "    <tr>\n",
              "      <th>1</th>\n",
              "      <td>jeudi</td>\n",
              "      <td>9</td>\n",
              "      <td>1080</td>\n",
              "    </tr>\n",
              "    <tr>\n",
              "      <th>2</th>\n",
              "      <td>lundi</td>\n",
              "      <td>33</td>\n",
              "      <td>3960</td>\n",
              "    </tr>\n",
              "    <tr>\n",
              "      <th>3</th>\n",
              "      <td>mardi</td>\n",
              "      <td>9</td>\n",
              "      <td>1080</td>\n",
              "    </tr>\n",
              "    <tr>\n",
              "      <th>4</th>\n",
              "      <td>mercredi</td>\n",
              "      <td>14</td>\n",
              "      <td>1680</td>\n",
              "    </tr>\n",
              "    <tr>\n",
              "      <th>5</th>\n",
              "      <td>samedi</td>\n",
              "      <td>8</td>\n",
              "      <td>960</td>\n",
              "    </tr>\n",
              "    <tr>\n",
              "      <th>6</th>\n",
              "      <td>vendredi</td>\n",
              "      <td>9</td>\n",
              "      <td>1080</td>\n",
              "    </tr>\n",
              "    <tr>\n",
              "      <th>7</th>\n",
              "      <td>dimanche</td>\n",
              "      <td>6</td>\n",
              "      <td>720</td>\n",
              "    </tr>\n",
              "    <tr>\n",
              "      <th>8</th>\n",
              "      <td>jeudi</td>\n",
              "      <td>9</td>\n",
              "      <td>1080</td>\n",
              "    </tr>\n",
              "    <tr>\n",
              "      <th>9</th>\n",
              "      <td>lundi</td>\n",
              "      <td>33</td>\n",
              "      <td>3960</td>\n",
              "    </tr>\n",
              "    <tr>\n",
              "      <th>10</th>\n",
              "      <td>mardi</td>\n",
              "      <td>9</td>\n",
              "      <td>1080</td>\n",
              "    </tr>\n",
              "    <tr>\n",
              "      <th>11</th>\n",
              "      <td>mercredi</td>\n",
              "      <td>14</td>\n",
              "      <td>1680</td>\n",
              "    </tr>\n",
              "    <tr>\n",
              "      <th>12</th>\n",
              "      <td>samedi</td>\n",
              "      <td>8</td>\n",
              "      <td>960</td>\n",
              "    </tr>\n",
              "    <tr>\n",
              "      <th>13</th>\n",
              "      <td>vendredi</td>\n",
              "      <td>9</td>\n",
              "      <td>1080</td>\n",
              "    </tr>\n",
              "    <tr>\n",
              "      <th>14</th>\n",
              "      <td>dimanche</td>\n",
              "      <td>6</td>\n",
              "      <td>720</td>\n",
              "    </tr>\n",
              "    <tr>\n",
              "      <th>15</th>\n",
              "      <td>jeudi</td>\n",
              "      <td>9</td>\n",
              "      <td>1080</td>\n",
              "    </tr>\n",
              "    <tr>\n",
              "      <th>16</th>\n",
              "      <td>lundi</td>\n",
              "      <td>33</td>\n",
              "      <td>3960</td>\n",
              "    </tr>\n",
              "    <tr>\n",
              "      <th>17</th>\n",
              "      <td>mardi</td>\n",
              "      <td>9</td>\n",
              "      <td>1080</td>\n",
              "    </tr>\n",
              "    <tr>\n",
              "      <th>18</th>\n",
              "      <td>mercredi</td>\n",
              "      <td>14</td>\n",
              "      <td>1680</td>\n",
              "    </tr>\n",
              "    <tr>\n",
              "      <th>19</th>\n",
              "      <td>samedi</td>\n",
              "      <td>8</td>\n",
              "      <td>960</td>\n",
              "    </tr>\n",
              "    <tr>\n",
              "      <th>20</th>\n",
              "      <td>vendredi</td>\n",
              "      <td>9</td>\n",
              "      <td>1080</td>\n",
              "    </tr>\n",
              "    <tr>\n",
              "      <th>21</th>\n",
              "      <td>dimanche</td>\n",
              "      <td>6</td>\n",
              "      <td>720</td>\n",
              "    </tr>\n",
              "    <tr>\n",
              "      <th>22</th>\n",
              "      <td>jeudi</td>\n",
              "      <td>9</td>\n",
              "      <td>1080</td>\n",
              "    </tr>\n",
              "    <tr>\n",
              "      <th>23</th>\n",
              "      <td>lundi</td>\n",
              "      <td>33</td>\n",
              "      <td>3960</td>\n",
              "    </tr>\n",
              "    <tr>\n",
              "      <th>24</th>\n",
              "      <td>mardi</td>\n",
              "      <td>9</td>\n",
              "      <td>1080</td>\n",
              "    </tr>\n",
              "    <tr>\n",
              "      <th>25</th>\n",
              "      <td>mercredi</td>\n",
              "      <td>14</td>\n",
              "      <td>1680</td>\n",
              "    </tr>\n",
              "    <tr>\n",
              "      <th>26</th>\n",
              "      <td>samedi</td>\n",
              "      <td>8</td>\n",
              "      <td>960</td>\n",
              "    </tr>\n",
              "    <tr>\n",
              "      <th>27</th>\n",
              "      <td>vendredi</td>\n",
              "      <td>9</td>\n",
              "      <td>1080</td>\n",
              "    </tr>\n",
              "  </tbody>\n",
              "</table>\n",
              "</div>\n",
              "      <button class=\"colab-df-convert\" onclick=\"convertToInteractive('df-42a55c15-a434-4ff0-bcdd-8e365afbf3ed')\"\n",
              "              title=\"Convert this dataframe to an interactive table.\"\n",
              "              style=\"display:none;\">\n",
              "        \n",
              "  <svg xmlns=\"http://www.w3.org/2000/svg\" height=\"24px\"viewBox=\"0 0 24 24\"\n",
              "       width=\"24px\">\n",
              "    <path d=\"M0 0h24v24H0V0z\" fill=\"none\"/>\n",
              "    <path d=\"M18.56 5.44l.94 2.06.94-2.06 2.06-.94-2.06-.94-.94-2.06-.94 2.06-2.06.94zm-11 1L8.5 8.5l.94-2.06 2.06-.94-2.06-.94L8.5 2.5l-.94 2.06-2.06.94zm10 10l.94 2.06.94-2.06 2.06-.94-2.06-.94-.94-2.06-.94 2.06-2.06.94z\"/><path d=\"M17.41 7.96l-1.37-1.37c-.4-.4-.92-.59-1.43-.59-.52 0-1.04.2-1.43.59L10.3 9.45l-7.72 7.72c-.78.78-.78 2.05 0 2.83L4 21.41c.39.39.9.59 1.41.59.51 0 1.02-.2 1.41-.59l7.78-7.78 2.81-2.81c.8-.78.8-2.07 0-2.86zM5.41 20L4 18.59l7.72-7.72 1.47 1.35L5.41 20z\"/>\n",
              "  </svg>\n",
              "      </button>\n",
              "      \n",
              "  <style>\n",
              "    .colab-df-container {\n",
              "      display:flex;\n",
              "      flex-wrap:wrap;\n",
              "      gap: 12px;\n",
              "    }\n",
              "\n",
              "    .colab-df-convert {\n",
              "      background-color: #E8F0FE;\n",
              "      border: none;\n",
              "      border-radius: 50%;\n",
              "      cursor: pointer;\n",
              "      display: none;\n",
              "      fill: #1967D2;\n",
              "      height: 32px;\n",
              "      padding: 0 0 0 0;\n",
              "      width: 32px;\n",
              "    }\n",
              "\n",
              "    .colab-df-convert:hover {\n",
              "      background-color: #E2EBFA;\n",
              "      box-shadow: 0px 1px 2px rgba(60, 64, 67, 0.3), 0px 1px 3px 1px rgba(60, 64, 67, 0.15);\n",
              "      fill: #174EA6;\n",
              "    }\n",
              "\n",
              "    [theme=dark] .colab-df-convert {\n",
              "      background-color: #3B4455;\n",
              "      fill: #D2E3FC;\n",
              "    }\n",
              "\n",
              "    [theme=dark] .colab-df-convert:hover {\n",
              "      background-color: #434B5C;\n",
              "      box-shadow: 0px 1px 3px 1px rgba(0, 0, 0, 0.15);\n",
              "      filter: drop-shadow(0px 1px 2px rgba(0, 0, 0, 0.3));\n",
              "      fill: #FFFFFF;\n",
              "    }\n",
              "  </style>\n",
              "\n",
              "      <script>\n",
              "        const buttonEl =\n",
              "          document.querySelector('#df-42a55c15-a434-4ff0-bcdd-8e365afbf3ed button.colab-df-convert');\n",
              "        buttonEl.style.display =\n",
              "          google.colab.kernel.accessAllowed ? 'block' : 'none';\n",
              "\n",
              "        async function convertToInteractive(key) {\n",
              "          const element = document.querySelector('#df-42a55c15-a434-4ff0-bcdd-8e365afbf3ed');\n",
              "          const dataTable =\n",
              "            await google.colab.kernel.invokeFunction('convertToInteractive',\n",
              "                                                     [key], {});\n",
              "          if (!dataTable) return;\n",
              "\n",
              "          const docLinkHtml = 'Like what you see? Visit the ' +\n",
              "            '<a target=\"_blank\" href=https://colab.research.google.com/notebooks/data_table.ipynb>data table notebook</a>'\n",
              "            + ' to learn more about interactive tables.';\n",
              "          element.innerHTML = '';\n",
              "          dataTable['output_type'] = 'display_data';\n",
              "          await google.colab.output.renderOutput(dataTable, element);\n",
              "          const docLink = document.createElement('div');\n",
              "          docLink.innerHTML = docLinkHtml;\n",
              "          element.appendChild(docLink);\n",
              "        }\n",
              "      </script>\n",
              "    </div>\n",
              "  </div>\n",
              "  "
            ]
          },
          "metadata": {},
          "execution_count": 94
        }
      ]
    },
    {
      "cell_type": "markdown",
      "source": [
        "Ce code crée un nouveau dataframe qui contient la facturation pour chaque jour pour tous les clients. Ce dataframe est ensuite répété pour couvrir un mois entier. Enfin, un graphique de la facturation cumulée par jour sur un mois est créé."
      ],
      "metadata": {
        "id": "g5F7RQBso8-9"
      }
    },
    {
      "cell_type": "markdown",
      "source": [
        "**Pierre**: Donne moi la visualization de la facturation cumulée par jour sur 1 mois."
      ],
      "metadata": {
        "id": "hSX2ntOHpM2o"
      }
    },
    {
      "cell_type": "markdown",
      "source": [
        "Pour visualiser la facturation cumulée par jour sur un mois, nous pouvons utiliser la méthode cumsum() pour calculer la somme cumulative de la facturation chaque jour. Voici comment vous pouvez le faire :"
      ],
      "metadata": {
        "id": "2g6h-FGcpT5Y"
      }
    },
    {
      "cell_type": "code",
      "source": [
        "# Calcul de la facturation pour chaque jour pour tous les clients\n",
        "df_facturation_par_jour = df.groupby('jour')['durée'].sum().reset_index()\n",
        "df_facturation_par_jour['facturation'] = df_facturation_par_jour['durée'] * 120\n",
        "\n",
        "# Répétition du dataframe pour couvrir un mois entier\n",
        "df_facturation_par_jour = pd.concat([df_facturation_par_jour]*4, ignore_index=True)\n",
        "\n",
        "# Calcul de la facturation cumulée\n",
        "df_facturation_par_jour['facturation_cumulée'] = df_facturation_par_jour['facturation'].cumsum()\n",
        "\n",
        "# Création du graphique de la facturation cumulée par jour sur un mois pour tous les clients\n",
        "plt.figure(figsize=(10, 7))\n",
        "sns.lineplot(data=df_facturation_par_jour, x=range(len(df_facturation_par_jour)), y='facturation_cumulée')\n",
        "\n",
        "plt.title('Facturation cumulée par jour sur un mois pour tous les clients')\n",
        "plt.xlabel('Jour du mois')\n",
        "plt.ylabel('Facturation cumulée (euros)')\n",
        "\n",
        "plt.show()"
      ],
      "metadata": {
        "colab": {
          "base_uri": "https://localhost:8080/",
          "height": 642
        },
        "id": "RmmppYRIofvZ",
        "outputId": "3af678cd-321c-4ff5-93ca-35e9efff5db7"
      },
      "execution_count": 95,
      "outputs": [
        {
          "output_type": "display_data",
          "data": {
            "text/plain": [
              "<Figure size 1000x700 with 1 Axes>"
            ],
            "image/png": "[encoded data removed]"
          },
          "metadata": {}
        }
      ]
    },
    {
      "cell_type": "markdown",
      "source": [
        "Ce code crée d'abord un nouveau dataframe qui contient la facturation pour chaque jour pour tous les clients. Ce dataframe est ensuite répété pour couvrir un mois entier. La méthode cumsum() est utilisée pour calculer la facturation cumulée chaque jour. Enfin, un graphique de la facturation cumulée par jour sur un mois est créé."
      ],
      "metadata": {
        "id": "mnqgR8QCprOv"
      }
    },
    {
      "cell_type": "markdown",
      "source": [
        "**Pierre**: Merci. Tu es un bon assistant."
      ],
      "metadata": {
        "id": "TXLX9hGMpuq8"
      }
    },
    {
      "cell_type": "markdown",
      "source": [
        "Je vous remercie pour vos aimables paroles ! Je suis ici pour vous aider. N'hésitez pas si vous avez d'autres questions ou besoin d'assistance supplémentaire."
      ],
      "metadata": {
        "id": "OS2LqRRIp0gP"
      }
    }
  ]
}
